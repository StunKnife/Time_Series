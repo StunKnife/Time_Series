{
 "cells": [
  {
   "cell_type": "code",
   "execution_count": 3,
   "metadata": {},
   "outputs": [
    {
     "name": "stdout",
     "output_type": "stream",
     "text": [
      "Requirement already satisfied: pmdarima in c:\\users\\pc\\anaconda3\\lib\\site-packages (2.0.1)\n",
      "Requirement already satisfied: scipy>=1.3.2 in c:\\users\\pc\\anaconda3\\lib\\site-packages (from pmdarima) (1.9.3)\n",
      "Requirement already satisfied: joblib>=0.11 in c:\\users\\pc\\anaconda3\\lib\\site-packages (from pmdarima) (1.1.0)\n",
      "Requirement already satisfied: setuptools!=50.0.0,>=38.6.0 in c:\\users\\pc\\anaconda3\\lib\\site-packages (from pmdarima) (58.0.4)\n",
      "Requirement already satisfied: numpy>=1.21 in c:\\users\\pc\\anaconda3\\lib\\site-packages (from pmdarima) (1.22.4)\n",
      "Requirement already satisfied: scikit-learn>=0.22 in c:\\users\\pc\\anaconda3\\lib\\site-packages (from pmdarima) (1.1.3)\n",
      "Requirement already satisfied: urllib3 in c:\\users\\pc\\anaconda3\\lib\\site-packages (from pmdarima) (1.26.7)\n",
      "Requirement already satisfied: Cython!=0.29.18,!=0.29.31,>=0.29 in c:\\users\\pc\\anaconda3\\lib\\site-packages (from pmdarima) (0.29.24)\n",
      "Requirement already satisfied: statsmodels>=0.13.2 in c:\\users\\pc\\anaconda3\\lib\\site-packages (from pmdarima) (0.13.5)\n",
      "Requirement already satisfied: pandas>=0.19 in c:\\users\\pc\\anaconda3\\lib\\site-packages (from pmdarima) (1.5.2)\n",
      "Requirement already satisfied: pytz>=2020.1 in c:\\users\\pc\\anaconda3\\lib\\site-packages (from pandas>=0.19->pmdarima) (2021.3)\n",
      "Requirement already satisfied: python-dateutil>=2.8.1 in c:\\users\\pc\\anaconda3\\lib\\site-packages (from pandas>=0.19->pmdarima) (2.8.2)\n",
      "Requirement already satisfied: six>=1.5 in c:\\users\\pc\\anaconda3\\lib\\site-packages (from python-dateutil>=2.8.1->pandas>=0.19->pmdarima) (1.16.0)\n",
      "Requirement already satisfied: threadpoolctl>=2.0.0 in c:\\users\\pc\\anaconda3\\lib\\site-packages (from scikit-learn>=0.22->pmdarima) (2.2.0)\n",
      "Requirement already satisfied: packaging>=21.3 in c:\\users\\pc\\anaconda3\\lib\\site-packages (from statsmodels>=0.13.2->pmdarima) (21.3)\n",
      "Requirement already satisfied: patsy>=0.5.2 in c:\\users\\pc\\anaconda3\\lib\\site-packages (from statsmodels>=0.13.2->pmdarima) (0.5.2)\n",
      "Requirement already satisfied: pyparsing!=3.0.5,>=2.0.2 in c:\\users\\pc\\anaconda3\\lib\\site-packages (from packaging>=21.3->statsmodels>=0.13.2->pmdarima) (3.0.4)\n",
      "Note: you may need to restart the kernel to use updated packages.\n"
     ]
    },
    {
     "name": "stderr",
     "output_type": "stream",
     "text": [
      "WARNING: Ignoring invalid distribution -tatsmodels (c:\\users\\pc\\anaconda3\\lib\\site-packages)\n",
      "WARNING: Ignoring invalid distribution -tatsmodels (c:\\users\\pc\\anaconda3\\lib\\site-packages)\n",
      "WARNING: Ignoring invalid distribution -tatsmodels (c:\\users\\pc\\anaconda3\\lib\\site-packages)\n",
      "WARNING: Ignoring invalid distribution -tatsmodels (c:\\users\\pc\\anaconda3\\lib\\site-packages)\n",
      "WARNING: Ignoring invalid distribution -tatsmodels (c:\\users\\pc\\anaconda3\\lib\\site-packages)\n",
      "WARNING: Ignoring invalid distribution -tatsmodels (c:\\users\\pc\\anaconda3\\lib\\site-packages)\n"
     ]
    }
   ],
   "source": [
    "pip install pmdarima\n"
   ]
  },
  {
   "cell_type": "code",
   "execution_count": 16,
   "metadata": {},
   "outputs": [],
   "source": [
    "import pandas as pd\n",
    "import numpy as np\n",
    "import matplotlib.pyplot as plt\n",
    "from statsmodels.graphics.tsaplots import plot_acf, plot_pacf\n",
    "from statsmodels.tsa.statespace.tools import diff\n",
    "from pathlib import Path\n",
    "import warnings\n",
    "warnings.filterwarnings('ignore')\n",
    "\n",
    "import pmdarima as pm\n",
    "\n",
    "import pandas as pd\n",
    "from pathlib import Path\n",
    "import matplotlib.pyplot as plt\n",
    "from statsmodels.datasets import co2, get_rdataset\n",
    "\n",
    "from plotnine import *\n",
    "\n",
    "from statsmodels.tsa.seasonal import seasonal_decompose, STL\n",
    "\n",
    "from statsmodels.tsa.filters.hp_filter import hpfilter\n",
    "\n",
    "from statsmodels.tsa.stattools import adfuller, kpss\n",
    "\n",
    "import numpy as np\n",
    "from statsmodels.graphics.tsaplots import plot_acf, plot_pacf\n",
    "import statsmodels.api as sm\n",
    "\n",
    "from scipy.stats import shapiro, kstest, normaltest\n",
    "from statsmodels.stats.diagnostic import kstest_normal, normal_ad\n",
    "\n",
    "from statsmodels.tsa.api import AutoReg\n",
    "\n",
    "from statsmodels.stats.api import (het_breuschpagan, het_goldfeldquandt, het_white)\n",
    "\n",
    "from scipy.stats import boxcox\n",
    "\n",
    "from statsmodels.stats.diagnostic import acorr_ljungbox\n",
    "\n",
    "from pmdarima.arima.utils import ndiffs, nsdiffs\n",
    "\n",
    "\n",
    "import pandas as pd\n",
    "import numpy as np\n",
    "import matplotlib.pyplot as plt\n",
    "import warnings\n",
    "from statsmodels.tsa.api import (kpss, adfuller, seasonal_decompose, STL)\n",
    "from statsmodels.tools.eval_measures import rmspe, rmse\n",
    "from sklearn.metrics import mean_absolute_percentage_error as mape\n",
    "from statsmodels.graphics.tsaplots import plot_acf, plot_pacf\n",
    "from itertools import product\n",
    "from pathlib import Path\n",
    "\n",
    "from statsmodels.tsa.statespace.sarimax import SARIMAX\n",
    "\n",
    "from statsmodels.tsa.api import ExponentialSmoothing\n",
    "\n",
    "from statsmodels.tsa.arima.model import ARIMA\n",
    "from statsmodels.stats.diagnostic import acorr_ljungbox\n",
    "\n",
    "from sklearn.model_selection import train_test_split\n",
    "\n",
    "\n",
    "plt.rc(\"figure\", figsize=(16, 5))\n"
   ]
  },
  {
   "cell_type": "code",
   "execution_count": 8,
   "metadata": {},
   "outputs": [],
   "source": [
    "# Dataset: co2\n",
    "co2_df = co2.load_pandas().data\n",
    "co2_df = co2_df.ffill()\n",
    "\n",
    "# Dataset: AirPassengers\n",
    "air_passengers = get_rdataset(\"AirPassengers\")\n",
    "airp_df = air_passengers.data\n",
    "airp_df.index = pd.date_range('1949', '1961', freq='M')\n",
    "airp_df.drop(columns=['time'], inplace=True)\n",
    "\n",
    "# Dataset\n",
    "url1='https://raw.githubusercontent.com/PacktPublishing/Time-Series-Analysis-with-Python-Cookbook/main/datasets/Ch10/life_expectancy_birth.csv'\n",
    "url2='https://raw.githubusercontent.com/PacktPublishing/Time-Series-Analysis-with-Python-Cookbook/main/datasets/Ch10/milk_production.csv'\n",
    "\n",
    "life = pd.read_csv(url1, \n",
    "                   index_col='year',\n",
    "                   parse_dates=True,\n",
    "                  skipfooter=1)\n",
    "\n",
    "milk = pd.read_csv(url2, \n",
    "                   index_col='month', \n",
    "                   parse_dates=True)"
   ]
  },
  {
   "cell_type": "markdown",
   "metadata": {},
   "source": [
    "# A função auto_arima usa um algoritmo passo a passo que é mais rápido e eficiente do que uma pesquisa de grade completa ou pesquisa aleatória:\n",
    "• Quando stepwise=True, auto_arima executa uma pesquisa stepwise (que é o padrão).\n",
    "\n",
    "• Com stepwise=False, ele executa uma pesquisa de grade de força bruta (pesquisa completa).\n",
    "\n",
    "• Com random=True, realiza uma busca aleatória.\n",
    "\n",
    "auto_arima pode lidar com modelos ARIMA sazonais e não sazonais"
   ]
  },
  {
   "cell_type": "code",
   "execution_count": 10,
   "metadata": {},
   "outputs": [
    {
     "name": "stdout",
     "output_type": "stream",
     "text": [
      "Train: (151, 1)\n",
      "Test: (17, 1)\n"
     ]
    }
   ],
   "source": [
    "# Train and test split\n",
    "\n",
    "train, test = train_test_split(milk, test_size=0.10, shuffle=False)\n",
    "\n",
    "# same results using pmdarima\n",
    "train, test = pm.model_selection.train_test_split(milk, test_size=0.10)\n",
    "\n",
    "print(f'Train: {train.shape}')\n",
    "print(f'Test: {test.shape}')\n",
    "\n",
    "# Há 151 meses no conjunto de treinamento e 17 meses no conjunto de teste."
   ]
  },
  {
   "cell_type": "code",
   "execution_count": 11,
   "metadata": {},
   "outputs": [
    {
     "data": {
      "text/html": [
       "<table class=\"simpletable\">\n",
       "<caption>SARIMAX Results</caption>\n",
       "<tr>\n",
       "  <th>Dep. Variable:</th>                  <td>y</td>               <th>  No. Observations:  </th>    <td>151</td>  \n",
       "</tr>\n",
       "<tr>\n",
       "  <th>Model:</th>           <td>SARIMAX(0, 1, 1)x(0, 1, 1, 12)</td> <th>  Log Likelihood     </th> <td>-475.008</td>\n",
       "</tr>\n",
       "<tr>\n",
       "  <th>Date:</th>                   <td>Wed, 30 Nov 2022</td>        <th>  AIC                </th>  <td>956.016</td>\n",
       "</tr>\n",
       "<tr>\n",
       "  <th>Time:</th>                       <td>00:20:12</td>            <th>  BIC                </th>  <td>964.798</td>\n",
       "</tr>\n",
       "<tr>\n",
       "  <th>Sample:</th>                    <td>01-01-1962</td>           <th>  HQIC               </th>  <td>959.585</td>\n",
       "</tr>\n",
       "<tr>\n",
       "  <th></th>                          <td>- 07-01-1974</td>          <th>                     </th>     <td> </td>   \n",
       "</tr>\n",
       "<tr>\n",
       "  <th>Covariance Type:</th>               <td>opg</td>              <th>                     </th>     <td> </td>   \n",
       "</tr>\n",
       "</table>\n",
       "<table class=\"simpletable\">\n",
       "<tr>\n",
       "      <td></td>        <th>coef</th>     <th>std err</th>      <th>z</th>      <th>P>|z|</th>  <th>[0.025</th>    <th>0.975]</th>  \n",
       "</tr>\n",
       "<tr>\n",
       "  <th>ma.L1</th>    <td>   -0.2714</td> <td>    0.082</td> <td>   -3.326</td> <td> 0.001</td> <td>   -0.431</td> <td>   -0.111</td>\n",
       "</tr>\n",
       "<tr>\n",
       "  <th>ma.S.L12</th> <td>   -0.6233</td> <td>    0.079</td> <td>   -7.908</td> <td> 0.000</td> <td>   -0.778</td> <td>   -0.469</td>\n",
       "</tr>\n",
       "<tr>\n",
       "  <th>sigma2</th>   <td>   54.7638</td> <td>    5.498</td> <td>    9.960</td> <td> 0.000</td> <td>   43.987</td> <td>   65.540</td>\n",
       "</tr>\n",
       "</table>\n",
       "<table class=\"simpletable\">\n",
       "<tr>\n",
       "  <th>Ljung-Box (L1) (Q):</th>     <td>0.01</td> <th>  Jarque-Bera (JB):  </th> <td>31.78</td>\n",
       "</tr>\n",
       "<tr>\n",
       "  <th>Prob(Q):</th>                <td>0.92</td> <th>  Prob(JB):          </th> <td>0.00</td> \n",
       "</tr>\n",
       "<tr>\n",
       "  <th>Heteroskedasticity (H):</th> <td>1.22</td> <th>  Skew:              </th> <td>0.74</td> \n",
       "</tr>\n",
       "<tr>\n",
       "  <th>Prob(H) (two-sided):</th>    <td>0.50</td> <th>  Kurtosis:          </th> <td>4.83</td> \n",
       "</tr>\n",
       "</table><br/><br/>Warnings:<br/>[1] Covariance matrix calculated using the outer product of gradients (complex-step)."
      ],
      "text/plain": [
       "<class 'statsmodels.iolib.summary.Summary'>\n",
       "\"\"\"\n",
       "                                     SARIMAX Results                                      \n",
       "==========================================================================================\n",
       "Dep. Variable:                                  y   No. Observations:                  151\n",
       "Model:             SARIMAX(0, 1, 1)x(0, 1, 1, 12)   Log Likelihood                -475.008\n",
       "Date:                            Wed, 30 Nov 2022   AIC                            956.016\n",
       "Time:                                    00:20:12   BIC                            964.798\n",
       "Sample:                                01-01-1962   HQIC                           959.585\n",
       "                                     - 07-01-1974                                         \n",
       "Covariance Type:                              opg                                         \n",
       "==============================================================================\n",
       "                 coef    std err          z      P>|z|      [0.025      0.975]\n",
       "------------------------------------------------------------------------------\n",
       "ma.L1         -0.2714      0.082     -3.326      0.001      -0.431      -0.111\n",
       "ma.S.L12      -0.6233      0.079     -7.908      0.000      -0.778      -0.469\n",
       "sigma2        54.7638      5.498      9.960      0.000      43.987      65.540\n",
       "===================================================================================\n",
       "Ljung-Box (L1) (Q):                   0.01   Jarque-Bera (JB):                31.78\n",
       "Prob(Q):                              0.92   Prob(JB):                         0.00\n",
       "Heteroskedasticity (H):               1.22   Skew:                             0.74\n",
       "Prob(H) (two-sided):                  0.50   Kurtosis:                         4.83\n",
       "===================================================================================\n",
       "\n",
       "Warnings:\n",
       "[1] Covariance matrix calculated using the outer product of gradients (complex-step).\n",
       "\"\"\""
      ]
     },
     "execution_count": 11,
     "metadata": {},
     "output_type": "execute_result"
    }
   ],
   "source": [
    "auto_model = pm.auto_arima(train, \n",
    "                           seasonal=True,  # sazonali\n",
    "                           m=12,  # periodicidade\n",
    "                           test='adf',\n",
    "                           stepwise=True)\n",
    "auto_model.summary()\n"
   ]
  },
  {
   "cell_type": "code",
   "execution_count": 12,
   "metadata": {},
   "outputs": [
    {
     "name": "stdout",
     "output_type": "stream",
     "text": [
      "Performing stepwise search to minimize aic\n",
      " ARIMA(2,1,2)(1,1,1)[12]             : AIC=961.878, Time=0.38 sec\n",
      " ARIMA(0,1,0)(0,1,0)[12]             : AIC=1005.341, Time=0.02 sec\n",
      " ARIMA(1,1,0)(1,1,0)[12]             : AIC=971.814, Time=0.06 sec\n",
      " ARIMA(0,1,1)(0,1,1)[12]             : AIC=956.016, Time=0.09 sec\n",
      " ARIMA(0,1,1)(0,1,0)[12]             : AIC=996.508, Time=0.03 sec\n",
      " ARIMA(0,1,1)(1,1,1)[12]             : AIC=957.982, Time=0.14 sec\n",
      " ARIMA(0,1,1)(0,1,2)[12]             : AIC=957.967, Time=0.27 sec\n",
      " ARIMA(0,1,1)(1,1,0)[12]             : AIC=971.938, Time=0.06 sec\n",
      " ARIMA(0,1,1)(1,1,2)[12]             : AIC=960.016, Time=0.32 sec\n",
      " ARIMA(0,1,0)(0,1,1)[12]             : AIC=964.474, Time=0.05 sec\n",
      " ARIMA(1,1,1)(0,1,1)[12]             : AIC=957.884, Time=0.11 sec\n",
      " ARIMA(0,1,2)(0,1,1)[12]             : AIC=957.783, Time=0.12 sec\n",
      " ARIMA(1,1,0)(0,1,1)[12]             : AIC=956.436, Time=0.08 sec\n",
      " ARIMA(1,1,2)(0,1,1)[12]             : AIC=959.701, Time=0.20 sec\n",
      " ARIMA(0,1,1)(0,1,1)[12] intercept   : AIC=958.000, Time=0.11 sec\n",
      "\n",
      "Best model:  ARIMA(0,1,1)(0,1,1)[12]          \n",
      "Total fit time: 2.058 seconds\n"
     ]
    }
   ],
   "source": [
    "# Se você quiser observar a pontuação do modelo treinado em cada iteração, pode usar trace=True:\n",
    "\n",
    "auto_model = pm.auto_arima(train, \n",
    "                           seasonal=True, \n",
    "                           m=12, \n",
    "                           test='adf', \n",
    "                           stepwise=True,\n",
    "                           trace=True)\n"
   ]
  },
  {
   "cell_type": "code",
   "execution_count": 13,
   "metadata": {},
   "outputs": [
    {
     "name": "stdout",
     "output_type": "stream",
     "text": [
      "Performing stepwise search to minimize bic\n",
      " ARIMA(2,1,2)(1,1,1)[12]             : BIC=982.369, Time=0.39 sec\n",
      " ARIMA(0,1,0)(0,1,0)[12]             : BIC=1008.269, Time=0.01 sec\n",
      " ARIMA(1,1,0)(1,1,0)[12]             : BIC=980.596, Time=0.06 sec\n",
      " ARIMA(0,1,1)(0,1,1)[12]             : BIC=964.798, Time=0.09 sec\n",
      " ARIMA(0,1,1)(0,1,0)[12]             : BIC=1002.362, Time=0.03 sec\n",
      " ARIMA(0,1,1)(1,1,1)[12]             : BIC=969.691, Time=0.15 sec\n",
      " ARIMA(0,1,1)(0,1,2)[12]             : BIC=969.676, Time=0.28 sec\n",
      " ARIMA(0,1,1)(1,1,0)[12]             : BIC=980.720, Time=0.06 sec\n",
      " ARIMA(0,1,1)(1,1,2)[12]             : BIC=974.652, Time=0.33 sec\n",
      " ARIMA(0,1,0)(0,1,1)[12]             : BIC=970.329, Time=0.06 sec\n",
      " ARIMA(1,1,1)(0,1,1)[12]             : BIC=969.593, Time=0.12 sec\n",
      " ARIMA(0,1,2)(0,1,1)[12]             : BIC=969.493, Time=0.12 sec\n",
      " ARIMA(1,1,0)(0,1,1)[12]             : BIC=965.218, Time=0.09 sec\n",
      " ARIMA(1,1,2)(0,1,1)[12]             : BIC=974.337, Time=0.21 sec\n",
      " ARIMA(0,1,1)(0,1,1)[12] intercept   : BIC=969.709, Time=0.11 sec\n",
      "\n",
      "Best model:  ARIMA(0,1,1)(0,1,1)[12]          \n",
      "Total fit time: 2.117 seconds\n"
     ]
    }
   ],
   "source": [
    "# Critério bic\n",
    "\n",
    "auto_model = pm.auto_arima(train, \n",
    "                           seasonal=True, \n",
    "                           m=12, \n",
    "                           test='adf', \n",
    "                           information_criterion='bic',\n",
    "                           stepwise=True,\n",
    "                           trace=True)\n"
   ]
  },
  {
   "cell_type": "code",
   "execution_count": 14,
   "metadata": {},
   "outputs": [
    {
     "data": {
      "image/png": "[encoded data removed]",
      "text/plain": [
       "<Figure size 864x288 with 1 Axes>"
      ]
     },
     "metadata": {
      "needs_background": "light"
     },
     "output_type": "display_data"
    }
   ],
   "source": [
    "\n",
    "n = test.shape[0]\n",
    "\n",
    "forecast, conf_interval = auto_model.predict(n_periods=n, return_conf_int=True)\n",
    "\n",
    "lower_ci, upper_ci  = zip(*conf_interval)\n",
    "\n",
    "index = test.index\n",
    "\n",
    "ax = test.plot(style='--', alpha=0.6, figsize=(12,4))\n",
    "\n",
    "pd.Series(forecast, index=index).plot(style='-', ax=ax)\n",
    "plt.fill_between(index, lower_ci, upper_ci, alpha=0.2)\n",
    "plt.legend(['test', 'forecast']); plt.show()"
   ]
  },
  {
   "cell_type": "code",
   "execution_count": 15,
   "metadata": {},
   "outputs": [
    {
     "data": {
      "text/plain": [
       "True"
      ]
     },
     "execution_count": 15,
     "metadata": {},
     "output_type": "execute_result"
    }
   ],
   "source": [
    "sum(forecast) == sum(conf_interval.mean(axis=1))"
   ]
  },
  {
   "cell_type": "code",
   "execution_count": 18,
   "metadata": {},
   "outputs": [],
   "source": [
    "# Da mesma forma, a função nsdiff ajuda a estimar o número de ordens de diferenciação sazonal (D) necessárias. \n",
    "# A implementação abrange dois testes – os testes Osborn-Chui-Smith Birchenhall (ocsb) e Canova-Hansen (ch):\n",
    "\n",
    "n_adf = ndiffs(milk, test='adf') \n",
    "# KPSS test (the default in auto_arima):\n",
    "n_kpss = ndiffs(milk, test='kpss') \n",
    "\n",
    "n_pp = ndiffs(milk, test='pp')  \n",
    "n_ch = nsdiffs(milk, test='ocsb', m=10, max_D=12,) \n",
    "n_ocsb = nsdiffs(milk, test='ch' , m=10, max_D=12,)"
   ]
  },
  {
   "cell_type": "code",
   "execution_count": 19,
   "metadata": {},
   "outputs": [
    {
     "name": "stdout",
     "output_type": "stream",
     "text": [
      " ARIMA(0,1,0)(0,1,0)[12] intercept   : AIC=1007.319, Time=0.02 sec\n",
      " ARIMA(0,1,0)(0,1,1)[12] intercept   : AIC=966.470, Time=0.09 sec\n",
      " ARIMA(0,1,0)(0,1,2)[12] intercept   : AIC=968.422, Time=0.24 sec\n",
      " ARIMA(0,1,0)(1,1,0)[12] intercept   : AIC=983.036, Time=0.10 sec\n",
      " ARIMA(0,1,0)(1,1,1)[12] intercept   : AIC=968.438, Time=0.12 sec\n",
      " ARIMA(0,1,0)(1,1,2)[12] intercept   : AIC=970.470, Time=0.33 sec\n",
      " ARIMA(0,1,0)(2,1,0)[12] intercept   : AIC=973.451, Time=0.29 sec\n",
      " ARIMA(0,1,0)(2,1,1)[12] intercept   : AIC=968.640, Time=0.39 sec\n",
      " ARIMA(0,1,0)(2,1,2)[12] intercept   : AIC=inf, Time=1.17 sec\n",
      " ARIMA(0,1,1)(0,1,0)[12] intercept   : AIC=998.468, Time=0.04 sec\n",
      " ARIMA(0,1,1)(0,1,1)[12] intercept   : AIC=958.000, Time=0.11 sec\n",
      " ARIMA(0,1,1)(0,1,2)[12] intercept   : AIC=959.947, Time=0.34 sec\n",
      " ARIMA(0,1,1)(1,1,0)[12] intercept   : AIC=973.934, Time=0.11 sec\n",
      " ARIMA(0,1,1)(1,1,1)[12] intercept   : AIC=959.963, Time=0.16 sec\n",
      " ARIMA(0,1,1)(1,1,2)[12] intercept   : AIC=962.000, Time=0.44 sec\n",
      " ARIMA(0,1,1)(2,1,0)[12] intercept   : AIC=964.868, Time=0.39 sec\n",
      " ARIMA(0,1,1)(2,1,1)[12] intercept   : AIC=960.523, Time=0.47 sec\n",
      " ARIMA(0,1,1)(2,1,2)[12] intercept   : AIC=inf, Time=1.47 sec\n",
      " ARIMA(0,1,2)(0,1,0)[12] intercept   : AIC=1000.221, Time=0.07 sec\n",
      " ARIMA(0,1,2)(0,1,1)[12] intercept   : AIC=959.773, Time=0.15 sec\n",
      " ARIMA(0,1,2)(0,1,2)[12] intercept   : AIC=961.698, Time=0.43 sec\n",
      " ARIMA(0,1,2)(1,1,0)[12] intercept   : AIC=975.036, Time=0.15 sec\n",
      " ARIMA(0,1,2)(1,1,1)[12] intercept   : AIC=961.720, Time=0.33 sec\n",
      " ARIMA(0,1,2)(1,1,2)[12] intercept   : AIC=inf, Time=1.37 sec\n",
      " ARIMA(0,1,2)(2,1,0)[12] intercept   : AIC=966.593, Time=0.42 sec\n",
      " ARIMA(0,1,2)(2,1,1)[12] intercept   : AIC=962.402, Time=0.55 sec\n",
      " ARIMA(1,1,0)(0,1,0)[12] intercept   : AIC=998.951, Time=0.05 sec\n",
      " ARIMA(1,1,0)(0,1,1)[12] intercept   : AIC=958.427, Time=0.11 sec\n",
      " ARIMA(1,1,0)(0,1,2)[12] intercept   : AIC=960.342, Time=0.36 sec\n",
      " ARIMA(1,1,0)(1,1,0)[12] intercept   : AIC=973.812, Time=0.13 sec\n",
      " ARIMA(1,1,0)(1,1,1)[12] intercept   : AIC=960.367, Time=0.17 sec\n",
      " ARIMA(1,1,0)(1,1,2)[12] intercept   : AIC=inf, Time=1.26 sec\n",
      " ARIMA(1,1,0)(2,1,0)[12] intercept   : AIC=965.177, Time=0.38 sec\n",
      " ARIMA(1,1,0)(2,1,1)[12] intercept   : AIC=961.039, Time=0.55 sec\n",
      " ARIMA(1,1,0)(2,1,2)[12] intercept   : AIC=inf, Time=1.33 sec\n",
      " ARIMA(1,1,1)(0,1,0)[12] intercept   : AIC=1000.334, Time=0.05 sec\n",
      " ARIMA(1,1,1)(0,1,1)[12] intercept   : AIC=959.871, Time=0.20 sec\n",
      " ARIMA(1,1,1)(0,1,2)[12] intercept   : AIC=961.806, Time=0.46 sec\n",
      " ARIMA(1,1,1)(1,1,0)[12] intercept   : AIC=975.482, Time=0.20 sec\n",
      " ARIMA(1,1,1)(1,1,1)[12] intercept   : AIC=961.825, Time=0.28 sec\n",
      " ARIMA(1,1,1)(1,1,2)[12] intercept   : AIC=963.871, Time=0.56 sec\n",
      " ARIMA(1,1,1)(2,1,0)[12] intercept   : AIC=966.704, Time=0.44 sec\n",
      " ARIMA(1,1,1)(2,1,1)[12] intercept   : AIC=962.451, Time=0.60 sec\n",
      " ARIMA(1,1,2)(0,1,0)[12] intercept   : AIC=1002.136, Time=0.11 sec\n",
      " ARIMA(1,1,2)(0,1,1)[12] intercept   : AIC=961.692, Time=0.30 sec\n",
      " ARIMA(1,1,2)(0,1,2)[12] intercept   : AIC=963.612, Time=0.67 sec\n",
      " ARIMA(1,1,2)(1,1,0)[12] intercept   : AIC=976.836, Time=0.29 sec\n",
      " ARIMA(1,1,2)(1,1,1)[12] intercept   : AIC=963.635, Time=0.35 sec\n",
      " ARIMA(1,1,2)(2,1,0)[12] intercept   : AIC=968.540, Time=0.66 sec\n",
      " ARIMA(2,1,0)(0,1,0)[12] intercept   : AIC=999.874, Time=0.05 sec\n",
      " ARIMA(2,1,0)(0,1,1)[12] intercept   : AIC=959.471, Time=0.14 sec\n",
      " ARIMA(2,1,0)(0,1,2)[12] intercept   : AIC=961.415, Time=0.38 sec\n",
      " ARIMA(2,1,0)(1,1,0)[12] intercept   : AIC=975.192, Time=0.17 sec\n",
      " ARIMA(2,1,0)(1,1,1)[12] intercept   : AIC=961.432, Time=0.23 sec\n",
      " ARIMA(2,1,0)(1,1,2)[12] intercept   : AIC=963.471, Time=0.51 sec\n",
      " ARIMA(2,1,0)(2,1,0)[12] intercept   : AIC=966.388, Time=0.46 sec\n",
      " ARIMA(2,1,0)(2,1,1)[12] intercept   : AIC=962.062, Time=0.59 sec\n",
      " ARIMA(2,1,1)(0,1,0)[12] intercept   : AIC=inf, Time=0.24 sec\n",
      " ARIMA(2,1,1)(0,1,1)[12] intercept   : AIC=957.937, Time=0.37 sec\n",
      " ARIMA(2,1,1)(0,1,2)[12] intercept   : AIC=959.879, Time=1.02 sec\n",
      " ARIMA(2,1,1)(1,1,0)[12] intercept   : AIC=972.167, Time=0.59 sec\n",
      " ARIMA(2,1,1)(1,1,1)[12] intercept   : AIC=959.897, Time=0.49 sec\n",
      " ARIMA(2,1,1)(2,1,0)[12] intercept   : AIC=963.995, Time=1.01 sec\n",
      " ARIMA(2,1,2)(0,1,0)[12] intercept   : AIC=993.327, Time=0.18 sec\n",
      " ARIMA(2,1,2)(0,1,1)[12] intercept   : AIC=961.890, Time=0.33 sec\n",
      " ARIMA(2,1,2)(1,1,0)[12] intercept   : AIC=976.662, Time=0.47 sec\n",
      "\n",
      "Best model:  ARIMA(2,1,1)(0,1,1)[12] intercept\n",
      "Total fit time: 26.530 seconds\n"
     ]
    }
   ],
   "source": [
    "# Treinando modelo com vários parâmetros:: você pode fornecer restrições mínimas e máximas para a ordem autorregressiva não sazonal, p, ou a média móvel sazonal, Q. T\n",
    "model = pm.auto_arima(train, \n",
    "                      seasonal=True,\n",
    "                      with_intercept=True,\n",
    "                      d=1,\n",
    "                      max_d=2,\n",
    "                      start_p=0, max_p=2,\n",
    "                      start_q=0, max_q=2,\n",
    "                      m=12,\n",
    "                      D=1,\n",
    "                      max_D=2,\n",
    "                      start_P=0, max_P=2,\n",
    "                      start_Q=0, max_Q=2,\n",
    "                      information_criterion='aic',\n",
    "                      stepwise=False,\n",
    "                      out_of_sample_siz=25,\n",
    "                      test = 'kpss',\n",
    "                      score='mape',\n",
    "                      trace=True) "
   ]
  }
 ],
 "metadata": {
  "kernelspec": {
   "display_name": "Python 3.9.7 ('base')",
   "language": "python",
   "name": "python3"
  },
  "language_info": {
   "codemirror_mode": {
    "name": "ipython",
    "version": 3
   },
   "file_extension": ".py",
   "mimetype": "text/x-python",
   "name": "python",
   "nbconvert_exporter": "python",
   "pygments_lexer": "ipython3",
   "version": "3.9.7"
  },
  "orig_nbformat": 4,
  "vscode": {
   "interpreter": {
    "hash": "2e33924f5cad5d014716ef47a4956958652f2e3e756f7b26cc7db08a809e4a3f"
   }
  }
 },
 "nbformat": 4,
 "nbformat_minor": 2
}
