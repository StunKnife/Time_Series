{
 "cells": [
  {
   "cell_type": "code",
   "execution_count": 18,
   "metadata": {},
   "outputs": [],
   "source": [
    "import pandas as pd\n",
    "from pathlib import Path\n",
    "import matplotlib.pyplot as plt\n",
    "from statsmodels.datasets import co2, get_rdataset\n",
    "\n",
    "from plotnine import *\n",
    "\n",
    "from statsmodels.tsa.seasonal import seasonal_decompose, STL\n",
    "\n",
    "from statsmodels.tsa.filters.hp_filter import hpfilter\n",
    "\n",
    "from statsmodels.tsa.stattools import adfuller, kpss\n",
    "\n",
    "import numpy as np\n",
    "from statsmodels.graphics.tsaplots import plot_acf, plot_pacf\n",
    "import statsmodels.api as sm\n",
    "\n",
    "from scipy.stats import shapiro, kstest, normaltest\n",
    "from statsmodels.stats.diagnostic import kstest_normal, normal_ad\n",
    "\n",
    "from statsmodels.tsa.api import AutoReg\n",
    "\n",
    "from statsmodels.stats.api import (het_breuschpagan, het_goldfeldquandt, het_white)\n",
    "\n",
    "from scipy.stats import boxcox\n",
    "\n",
    "from statsmodels.stats.diagnostic import acorr_ljungbox\n",
    "\n",
    "\n",
    "\n",
    "import pandas as pd\n",
    "import numpy as np\n",
    "import matplotlib.pyplot as plt\n",
    "import warnings\n",
    "from statsmodels.tsa.api import (kpss, adfuller, seasonal_decompose, STL)\n",
    "from statsmodels.tools.eval_measures import rmspe, rmse\n",
    "from sklearn.metrics import mean_absolute_percentage_error as mape\n",
    "from statsmodels.graphics.tsaplots import plot_acf, plot_pacf\n",
    "from itertools import product\n",
    "from pathlib import Path\n",
    "\n",
    "from statsmodels.tsa.statespace.sarimax import SARIMAX\n",
    "\n",
    "from statsmodels.tsa.api import ExponentialSmoothing"
   ]
  },
  {
   "cell_type": "code",
   "execution_count": 19,
   "metadata": {},
   "outputs": [],
   "source": [
    "# Dataset: AirPassengers\n",
    "air_passengers = get_rdataset(\"AirPassengers\")\n",
    "airp_df = air_passengers.data\n",
    "airp_df.index = pd.date_range('1949', '1961', freq='M')\n",
    "airp_df.drop(columns=['time'], inplace=True)"
   ]
  },
  {
   "cell_type": "code",
   "execution_count": 20,
   "metadata": {},
   "outputs": [],
   "source": [
    "# Dataset: co2\n",
    "co2_df = co2.load_pandas().data\n",
    "co2_df = co2_df.ffill()"
   ]
  },
  {
   "cell_type": "markdown",
   "metadata": {},
   "source": [
    "# SUAVIZAÇÃO EXPONENCIAL\n",
    "    - Simple Exp Smoothing: ''A suavização exponencial simples'' é usada quando o processo de série temporal ''carece'' de ''sazonalidade'' e ''tendência''. Isso também é conhecido como suavização exponencial única.\n",
    "    - Holt: a ''suavização exponencial de Holt'' é um aprimoramento da suavização exponencial simples e é usada quando o processo de série temporal contém ''apenas'' ''tendência'' (mas sem sazonalidade). É referido como suavização exponencial dupla.\n",
    "    - Suavização exponencial: a ''suavização exponencial de Holt-Winters'' é um aprimoramento da suavização exponencial de Holt e é usada quando o processo de série temporal \"\"tem\"\" \"\"sazonalidade\"\" e \"\"tendência\"\". É referido como suavização exponencial tripla."
   ]
  },
  {
   "cell_type": "markdown",
   "metadata": {},
   "source": [
    "# SUAVIZAÇÃO EXPONENCIAL:\n",
    "\n",
    "    1. smoothing_level: um valor flutuante para o fator de suavização para o nível conhecido como alfa (𝛼𝛼), onde 0 ≤ 𝛼𝛼 ≤ 1.\n",
    "\n",
    "     2. smoothing_trend: um valor flutuante para o fator de suavização da tendência conhecido como beta (𝛽𝛽), onde 0 ≤ 𝛽𝛽 ≤ 1.\n",
    "\n",
    "     3. smoothing_seasonal: um valor flutuante para o fator de suavização para a tendência sazonal conhecida como gama (𝛾𝛾), onde 0 ≤ 𝛾𝛾 ≤ 1.\n",
    "\n",
    "     4. tendência: Uma única escolha de (multiplicativo ou mul), (aditivo ou adicionar) ou Nenhum.\n",
    "\n",
    "     5. sazonal: Uma única escolha entre (multiplicativo ou mul), (aditivo ou adicionar) ou Nenhum.\n",
    "\n",
    "     6. season_periods: Toma um valor inteiro representando o período de sazonalidade, por exemplo, 12 se os dados forem mensais ou 4 se as informações forem trimestrais.\n",
    "\n",
    "     7. damped_trend: Um valor booleano que é True ou False.\n",
    "\n",
    "     8. use_boxcox: Um valor booleano que é True ou False para determinar se uma transformação Box-Cox deve ser aplicada."
   ]
  },
  {
   "cell_type": "code",
   "execution_count": 21,
   "metadata": {},
   "outputs": [],
   "source": [
    "def combinator(items):\n",
    "    combo = [i for i in product(*items)]\n",
    "    return combo"
   ]
  },
  {
   "cell_type": "code",
   "execution_count": 22,
   "metadata": {},
   "outputs": [
    {
     "data": {
      "text/plain": [
       "[('add', True), ('add', False), ('mul', True), ('mul', False)]"
      ]
     },
     "execution_count": 22,
     "metadata": {},
     "output_type": "execute_result"
    }
   ],
   "source": [
    "# Definindo uma lista de parâmetros\n",
    "trend = ['add', 'mul']\n",
    "\n",
    "damped = [True, False]\n",
    "\n",
    "life_ex_comb = combinator([trend, damped]) # Combinando os parâmetros 372/347\n",
    "life_ex_comb\n",
    "\n",
    "# Lembre-se de que a maioria das ferramentas e softwares automatizados usará as pontuações AIC e BIC nos bastidores para determinar o melhor modelo:"
   ]
  },
  {
   "cell_type": "code",
   "execution_count": 23,
   "metadata": {},
   "outputs": [
    {
     "name": "stderr",
     "output_type": "stream",
     "text": [
      "C:\\Users\\Pc\\AppData\\Local\\Temp/ipykernel_12732/133277616.py:5: ParserWarning: Falling back to the 'python' engine because the 'c' engine does not support skipfooter; you can avoid this warning by specifying engine='python'.\n"
     ]
    }
   ],
   "source": [
    "# Dataset\n",
    "url1='https://raw.githubusercontent.com/PacktPublishing/Time-Series-Analysis-with-Python-Cookbook/main/datasets/Ch10/life_expectancy_birth.csv'\n",
    "url2='https://raw.githubusercontent.com/PacktPublishing/Time-Series-Analysis-with-Python-Cookbook/main/datasets/Ch10/milk_production.csv'\n",
    "\n",
    "life = pd.read_csv(url1, \n",
    "                   index_col='year',\n",
    "                   parse_dates=True,\n",
    "                  skipfooter=1)\n",
    "\n",
    "milk = pd.read_csv(url2, \n",
    "                   index_col='month', \n",
    "                   parse_dates=True)"
   ]
  },
  {
   "cell_type": "code",
   "execution_count": 24,
   "metadata": {},
   "outputs": [],
   "source": [
    "# SPLIT: Função para criar train e test data set\n",
    "def split_data(data, test_split):\n",
    "    l = len(data)\n",
    "    t_idx = round(l*(1-test_split))\n",
    "    train, test = data[ : t_idx], data[t_idx : ]\n",
    "    print(f'train: {len(train)} , test: {len(test)}')\n",
    "    return train, test"
   ]
  },
  {
   "cell_type": "code",
   "execution_count": 25,
   "metadata": {},
   "outputs": [
    {
     "name": "stdout",
     "output_type": "stream",
     "text": [
      "train: 143 , test: 25\n",
      "train: 50 , test: 9\n"
     ]
    }
   ],
   "source": [
    "test_split = 0.15\n",
    "\n",
    "milk_train, milk_test = split_data(milk, test_split)\n",
    "\n",
    "life_train, life_test = split_data(life, test_split)"
   ]
  },
  {
   "cell_type": "code",
   "execution_count": 26,
   "metadata": {},
   "outputs": [],
   "source": [
    "train = life_train.values.ravel() #dados de treino\n",
    "\n",
    "y = life_test.values.ravel() #dados de teste\n",
    "\n",
    "score = {}\n",
    "\n",
    "for i, (t, dp) in enumerate(life_ex_comb): #combinação de parâmetros\n",
    "    exp = ExponentialSmoothing(train, \n",
    "                     trend=t, \n",
    "                     damped_trend=dp,\n",
    "                     seasonal=None) # Objeto do modelo\n",
    "\n",
    "    model = exp.fit(use_brute=True, optimized=True)     # Fit modelo\n",
    "\n",
    "    y_hat = model.forecast(len(y)) # Previsão\n",
    "\n",
    "    # Métricas do modelo\n",
    "    score[i] = {'trend':t, \\\n",
    "                'damped':dp,\\\n",
    "                'AIC':model.aic,\\\n",
    "                'BIC':model.bic, \\\n",
    "                'AICc':model.aicc, \\\n",
    "                'RMSPE': rmspe(y, y_hat),\\\n",
    "                'RMSE' : rmse(y, y_hat),\\\n",
    "                'MAPE' : mape(y, y_hat),\\\n",
    "                'model': model}"
   ]
  },
  {
   "cell_type": "code",
   "execution_count": 27,
   "metadata": {},
   "outputs": [],
   "source": [
    "# Função: Melhor modelo para determinado criterio\n",
    "def get_best_model(score, c='AIC'):\n",
    "    initial_score = score[0][c]\n",
    "    best_model = 0\n",
    "    for k,v in score.items():\n",
    "        if v[c] < initial_score:\n",
    "            initial_score = v[c]\n",
    "            best_model = k\n",
    "    print(f'Best model: {best_model} with lowest {c} score: {initial_score}')\n",
    "    return score[best_model]['model']"
   ]
  },
  {
   "cell_type": "code",
   "execution_count": 28,
   "metadata": {},
   "outputs": [
    {
     "name": "stdout",
     "output_type": "stream",
     "text": [
      "Best model: 1 with lowest AIC score: -137.03060180016485\n"
     ]
    },
    {
     "data": {
      "text/html": [
       "<table class=\"simpletable\">\n",
       "<caption>ExponentialSmoothing Model Results</caption>\n",
       "<tr>\n",
       "  <th>Dep. Variable:</th>            <td>endog</td>        <th>  No. Observations:  </th>        <td>50</td>       \n",
       "</tr>\n",
       "<tr>\n",
       "  <th>Model:</th>            <td>ExponentialSmoothing</td> <th>  SSE                </th>       <td>2.749</td>     \n",
       "</tr>\n",
       "<tr>\n",
       "  <th>Optimized:</th>                <td>True</td>         <th>  AIC                </th>     <td>-137.031</td>    \n",
       "</tr>\n",
       "<tr>\n",
       "  <th>Trend:</th>                  <td>Additive</td>       <th>  BIC                </th>     <td>-129.383</td>    \n",
       "</tr>\n",
       "<tr>\n",
       "  <th>Seasonal:</th>                 <td>None</td>         <th>  AICC               </th>     <td>-135.077</td>    \n",
       "</tr>\n",
       "<tr>\n",
       "  <th>Seasonal Periods:</th>         <td>None</td>         <th>  Date:              </th> <td>Tue, 29 Nov 2022</td>\n",
       "</tr>\n",
       "<tr>\n",
       "  <th>Box-Cox:</th>                  <td>False</td>        <th>  Time:              </th>     <td>00:22:41</td>    \n",
       "</tr>\n",
       "<tr>\n",
       "  <th>Box-Cox Coeff.:</th>           <td>None</td>         <th>                     </th>         <td> </td>       \n",
       "</tr>\n",
       "</table>\n",
       "<table class=\"simpletable\">\n",
       "<tr>\n",
       "         <td></td>                 <th>coeff</th>                <th>code</th>               <th>optimized</th>     \n",
       "</tr>\n",
       "<tr>\n",
       "  <th>smoothing_level</th> <td>           0.1621951</td> <td>               alpha</td> <td>                True</td>\n",
       "</tr>\n",
       "<tr>\n",
       "  <th>smoothing_trend</th> <td>           0.1621951</td> <td>                beta</td> <td>                True</td>\n",
       "</tr>\n",
       "<tr>\n",
       "  <th>initial_level</th>   <td>           68.748480</td> <td>                 l.0</td> <td>                True</td>\n",
       "</tr>\n",
       "<tr>\n",
       "  <th>initial_trend</th>   <td>           0.2422271</td> <td>                 b.0</td> <td>                True</td>\n",
       "</tr>\n",
       "</table>"
      ],
      "text/plain": [
       "<class 'statsmodels.iolib.summary.Summary'>\n",
       "\"\"\"\n",
       "                       ExponentialSmoothing Model Results                       \n",
       "================================================================================\n",
       "Dep. Variable:                    endog   No. Observations:                   50\n",
       "Model:             ExponentialSmoothing   SSE                              2.749\n",
       "Optimized:                         True   AIC                           -137.031\n",
       "Trend:                         Additive   BIC                           -129.383\n",
       "Seasonal:                          None   AICC                          -135.077\n",
       "Seasonal Periods:                  None   Date:                 Tue, 29 Nov 2022\n",
       "Box-Cox:                          False   Time:                         00:22:41\n",
       "Box-Cox Coeff.:                    None                                         \n",
       "==============================================================================\n",
       "                       coeff                 code              optimized      \n",
       "------------------------------------------------------------------------------\n",
       "smoothing_level            0.1621951                alpha                 True\n",
       "smoothing_trend            0.1621951                 beta                 True\n",
       "initial_level              68.748480                  l.0                 True\n",
       "initial_trend              0.2422271                  b.0                 True\n",
       "------------------------------------------------------------------------------\n",
       "\"\"\""
      ]
     },
     "execution_count": 28,
     "metadata": {},
     "output_type": "execute_result"
    }
   ],
   "source": [
    "life_best_model = get_best_model(score, 'AIC')\n",
    "life_best_model.summary()"
   ]
  },
  {
   "cell_type": "code",
   "execution_count": 29,
   "metadata": {},
   "outputs": [],
   "source": [
    "# Função: Crie a função plot_forecast, que usa um objeto de modelo que você treinou, uma posição inicial e os conjuntos de dados de treinamento \n",
    "# e teste para criar um gráfico que compara a previsão (valores previstos) com os reais.\n",
    "\n",
    "def plot_forecast(model, start, train, test):\n",
    "    forecast = pd.DataFrame(model.forecast(test.shape[0]), index=test.index)\n",
    "    ax = train.loc[start:].plot(style='--')\n",
    "    test.plot(ax=ax)\n",
    "    forecast.plot(ax=ax, style = '-.')\n",
    "    ax.legend(['orig_train', 'orig_test', 'forecast'])\n",
    "    plt.show()"
   ]
  },
  {
   "cell_type": "code",
   "execution_count": 30,
   "metadata": {},
   "outputs": [
    {
     "data": {
      "image/png": "[encoded data removed]",
      "text/plain": [
       "<Figure size 432x288 with 1 Axes>"
      ]
     },
     "metadata": {
      "needs_background": "light"
     },
     "output_type": "display_data"
    }
   ],
   "source": [
    "plot_forecast(life_best_model, '2000', life_train, life_test)\n",
    "\n",
    "# A previsão da suavização exponencial simples produziu uma linha reta estendendo a tendência ascendente dos dados treinados"
   ]
  },
  {
   "cell_type": "markdown",
   "metadata": {},
   "source": [
    "# Dataset Milk: TAREFA. Considere\n",
    "\n",
    "trend , damped= ['add', 'mul'], [True, False] \n",
    "seasonal, periods = ['add' , 'mul'], [4, 6, 12]\n",
    "milk_exp_comb = combinator([trend, damped, seasonal, \n",
    "periods])\n"
   ]
  },
  {
   "cell_type": "code",
   "execution_count": 31,
   "metadata": {},
   "outputs": [],
   "source": [
    "trend , damped= ['add', 'mul'], [True, False] \n",
    "seasonal, periods = ['add' , 'mul'], [4, 6, 12]\n",
    "milk_exp_comb = combinator([trend, damped, seasonal, \n",
    "periods])"
   ]
  },
  {
   "cell_type": "code",
   "execution_count": 32,
   "metadata": {},
   "outputs": [
    {
     "name": "stderr",
     "output_type": "stream",
     "text": [
      "c:\\Users\\Pc\\anaconda3\\lib\\site-packages\\statsmodels\\tsa\\holtwinters\\model.py:915: ConvergenceWarning: Optimization failed to converge. Check mle_retvals.\n",
      "c:\\Users\\Pc\\anaconda3\\lib\\site-packages\\statsmodels\\tsa\\holtwinters\\model.py:83: RuntimeWarning: overflow encountered in matmul\n",
      "c:\\Users\\Pc\\anaconda3\\lib\\site-packages\\statsmodels\\tsa\\holtwinters\\model.py:83: RuntimeWarning: overflow encountered in matmul\n",
      "c:\\Users\\Pc\\anaconda3\\lib\\site-packages\\statsmodels\\tsa\\holtwinters\\model.py:83: RuntimeWarning: overflow encountered in matmul\n",
      "c:\\Users\\Pc\\anaconda3\\lib\\site-packages\\statsmodels\\tsa\\holtwinters\\model.py:83: RuntimeWarning: overflow encountered in matmul\n",
      "c:\\Users\\Pc\\anaconda3\\lib\\site-packages\\statsmodels\\tsa\\holtwinters\\model.py:83: RuntimeWarning: overflow encountered in matmul\n",
      "c:\\Users\\Pc\\anaconda3\\lib\\site-packages\\statsmodels\\tsa\\holtwinters\\model.py:83: RuntimeWarning: overflow encountered in matmul\n"
     ]
    }
   ],
   "source": [
    "train = milk_train.values.ravel()\n",
    "y = milk_test.values.ravel()\n",
    "milk_model_scores = {}\n",
    "for i, (t, dp, s, sp) in enumerate(milk_exp_comb):\n",
    "    exp = ExponentialSmoothing(train, \n",
    "                        trend=t, \n",
    "                        damped_trend=dp,\n",
    "                        seasonal=s,\n",
    "                        seasonal_periods=sp)\n",
    "    model = exp.fit(use_brute=True, optimized=True)    \n",
    "    y_hat = model.forecast(len(y))\n",
    "    milk_model_scores[i] = {'trend':t,\n",
    "                'damped':dp,\\\n",
    "                'AIC':model.aic,\\\n",
    "                'BIC':model.bic, \\\n",
    "                'AICc': model.aicc,\\\n",
    "                'RMSPE': rmspe(y, y_hat),\\\n",
    "                'RMSE' : rmse(y, y_hat),\\\n",
    "                'MAPE' : mape(y, y_hat),\\\n",
    "                'model': model}"
   ]
  },
  {
   "cell_type": "code",
   "execution_count": 33,
   "metadata": {},
   "outputs": [
    {
     "name": "stdout",
     "output_type": "stream",
     "text": [
      "Best model: 8 with lowest AIC score: 593.7138896839506\n"
     ]
    },
    {
     "data": {
      "text/html": [
       "<table class=\"simpletable\">\n",
       "<caption>ExponentialSmoothing Model Results</caption>\n",
       "<tr>\n",
       "  <th>Dep. Variable:</th>            <td>endog</td>        <th>  No. Observations:  </th>        <td>143</td>      \n",
       "</tr>\n",
       "<tr>\n",
       "  <th>Model:</th>            <td>ExponentialSmoothing</td> <th>  SSE                </th>     <td>7265.655</td>    \n",
       "</tr>\n",
       "<tr>\n",
       "  <th>Optimized:</th>                <td>True</td>         <th>  AIC                </th>      <td>593.714</td>    \n",
       "</tr>\n",
       "<tr>\n",
       "  <th>Trend:</th>                  <td>Additive</td>       <th>  BIC                </th>      <td>641.119</td>    \n",
       "</tr>\n",
       "<tr>\n",
       "  <th>Seasonal:</th>               <td>Additive</td>       <th>  AICC               </th>      <td>599.230</td>    \n",
       "</tr>\n",
       "<tr>\n",
       "  <th>Seasonal Periods:</th>          <td>12</td>          <th>  Date:              </th> <td>Tue, 29 Nov 2022</td>\n",
       "</tr>\n",
       "<tr>\n",
       "  <th>Box-Cox:</th>                  <td>False</td>        <th>  Time:              </th>     <td>00:22:44</td>    \n",
       "</tr>\n",
       "<tr>\n",
       "  <th>Box-Cox Coeff.:</th>           <td>None</td>         <th>                     </th>         <td> </td>       \n",
       "</tr>\n",
       "</table>\n",
       "<table class=\"simpletable\">\n",
       "<tr>\n",
       "           <td></td>                  <th>coeff</th>                <th>code</th>               <th>optimized</th>     \n",
       "</tr>\n",
       "<tr>\n",
       "  <th>smoothing_level</th>    <td>           0.6859243</td> <td>               alpha</td> <td>                True</td>\n",
       "</tr>\n",
       "<tr>\n",
       "  <th>smoothing_trend</th>    <td>          6.5801e-08</td> <td>                beta</td> <td>                True</td>\n",
       "</tr>\n",
       "<tr>\n",
       "  <th>smoothing_seasonal</th> <td>           0.1476667</td> <td>               gamma</td> <td>                True</td>\n",
       "</tr>\n",
       "<tr>\n",
       "  <th>initial_level</th>      <td>           607.37545</td> <td>                 l.0</td> <td>                True</td>\n",
       "</tr>\n",
       "<tr>\n",
       "  <th>initial_trend</th>      <td>           1.6559191</td> <td>                 b.0</td> <td>                True</td>\n",
       "</tr>\n",
       "<tr>\n",
       "  <th>initial_seasons.0</th>  <td>          -19.969928</td> <td>                 s.0</td> <td>                True</td>\n",
       "</tr>\n",
       "<tr>\n",
       "  <th>initial_seasons.1</th>  <td>          -51.574598</td> <td>                 s.1</td> <td>                True</td>\n",
       "</tr>\n",
       "<tr>\n",
       "  <th>initial_seasons.2</th>  <td>           34.498158</td> <td>                 s.2</td> <td>                True</td>\n",
       "</tr>\n",
       "<tr>\n",
       "  <th>initial_seasons.3</th>  <td>           48.807785</td> <td>                 s.3</td> <td>                True</td>\n",
       "</tr>\n",
       "<tr>\n",
       "  <th>initial_seasons.4</th>  <td>           111.95003</td> <td>                 s.4</td> <td>                True</td>\n",
       "</tr>\n",
       "<tr>\n",
       "  <th>initial_seasons.5</th>  <td>           85.909706</td> <td>                 s.5</td> <td>                True</td>\n",
       "</tr>\n",
       "<tr>\n",
       "  <th>initial_seasons.6</th>  <td>           31.126438</td> <td>                 s.6</td> <td>                True</td>\n",
       "</tr>\n",
       "<tr>\n",
       "  <th>initial_seasons.7</th>  <td>          -15.269336</td> <td>                 s.7</td> <td>                True</td>\n",
       "</tr>\n",
       "<tr>\n",
       "  <th>initial_seasons.8</th>  <td>          -56.184181</td> <td>                 s.8</td> <td>                True</td>\n",
       "</tr>\n",
       "<tr>\n",
       "  <th>initial_seasons.9</th>  <td>          -53.504981</td> <td>                 s.9</td> <td>                True</td>\n",
       "</tr>\n",
       "<tr>\n",
       "  <th>initial_seasons.10</th> <td>          -78.986295</td> <td>                s.10</td> <td>                True</td>\n",
       "</tr>\n",
       "<tr>\n",
       "  <th>initial_seasons.11</th> <td>          -43.525427</td> <td>                s.11</td> <td>                True</td>\n",
       "</tr>\n",
       "</table>"
      ],
      "text/plain": [
       "<class 'statsmodels.iolib.summary.Summary'>\n",
       "\"\"\"\n",
       "                       ExponentialSmoothing Model Results                       \n",
       "================================================================================\n",
       "Dep. Variable:                    endog   No. Observations:                  143\n",
       "Model:             ExponentialSmoothing   SSE                           7265.655\n",
       "Optimized:                         True   AIC                            593.714\n",
       "Trend:                         Additive   BIC                            641.119\n",
       "Seasonal:                      Additive   AICC                           599.230\n",
       "Seasonal Periods:                    12   Date:                 Tue, 29 Nov 2022\n",
       "Box-Cox:                          False   Time:                         00:22:44\n",
       "Box-Cox Coeff.:                    None                                         \n",
       "=================================================================================\n",
       "                          coeff                 code              optimized      \n",
       "---------------------------------------------------------------------------------\n",
       "smoothing_level               0.6859243                alpha                 True\n",
       "smoothing_trend              6.5801e-08                 beta                 True\n",
       "smoothing_seasonal            0.1476667                gamma                 True\n",
       "initial_level                 607.37545                  l.0                 True\n",
       "initial_trend                 1.6559191                  b.0                 True\n",
       "initial_seasons.0            -19.969928                  s.0                 True\n",
       "initial_seasons.1            -51.574598                  s.1                 True\n",
       "initial_seasons.2             34.498158                  s.2                 True\n",
       "initial_seasons.3             48.807785                  s.3                 True\n",
       "initial_seasons.4             111.95003                  s.4                 True\n",
       "initial_seasons.5             85.909706                  s.5                 True\n",
       "initial_seasons.6             31.126438                  s.6                 True\n",
       "initial_seasons.7            -15.269336                  s.7                 True\n",
       "initial_seasons.8            -56.184181                  s.8                 True\n",
       "initial_seasons.9            -53.504981                  s.9                 True\n",
       "initial_seasons.10           -78.986295                 s.10                 True\n",
       "initial_seasons.11           -43.525427                 s.11                 True\n",
       "---------------------------------------------------------------------------------\n",
       "\"\"\""
      ]
     },
     "execution_count": 33,
     "metadata": {},
     "output_type": "execute_result"
    }
   ],
   "source": [
    "milk_model = get_best_model(milk_model_scores)\n",
    "milk_model.summary()"
   ]
  },
  {
   "cell_type": "code",
   "execution_count": 34,
   "metadata": {},
   "outputs": [
    {
     "data": {
      "image/png": "[encoded data removed]",
      "text/plain": [
       "<Figure size 432x288 with 1 Axes>"
      ]
     },
     "metadata": {
      "needs_background": "light"
     },
     "output_type": "display_data"
    }
   ],
   "source": [
    "plot_forecast(milk_model, '1969', milk_train, milk_test)\n",
    "\n",
    "# No geral, o modelo fez um trabalho decente ao capturar o efeito da tendência e da sazonalidade e parecia próximo dos valores reais do conjunto de teste."
   ]
  },
  {
   "cell_type": "markdown",
   "metadata": {},
   "source": [
    "# COMPARAÇÃO:\n",
    "    - O modelo de média móvel trata os valores passados igualmente\n",
    "    - os modelos do tipo suavização exponencial colocam mais ênfase (peso) nas observações mais recentes. Em outras palavras, observações mais antigas decaem em peso exponencialmente, daí o termo \"exponencial\". Isso se baseia na suposição lógica de que eventos mais recentes provavelmente serão mais importantes do que eventos muito mais antigos;\n",
    "        - por exemplo, o que aconteceu ontem ou anteontem é mais relevante do que aconteceu há 2 meses para uma série temporal diária."
   ]
  },
  {
   "cell_type": "markdown",
   "metadata": {},
   "source": [
    "# EXTRA"
   ]
  },
  {
   "cell_type": "code",
   "execution_count": 37,
   "metadata": {},
   "outputs": [
    {
     "name": "stdout",
     "output_type": "stream",
     "text": [
      "Collecting darts\n",
      "  Using cached darts-0.22.0-py3-none-any.whl (451 kB)\n",
      "Collecting pytorch-lightning>=1.5.0\n",
      "  Using cached pytorch_lightning-1.8.3.post1-py3-none-any.whl (798 kB)\n",
      "Requirement already satisfied: tqdm>=4.60.0 in c:\\users\\pc\\anaconda3\\lib\\site-packages (from darts) (4.62.3)\n",
      "Requirement already satisfied: numpy>=1.19.0 in c:\\users\\pc\\anaconda3\\lib\\site-packages (from darts) (1.22.4)\n",
      "Collecting tbats>=1.1.0\n",
      "  Using cached tbats-1.1.1-py3-none-any.whl (43 kB)\n",
      "Requirement already satisfied: statsmodels>=0.13.0 in c:\\users\\pc\\anaconda3\\lib\\site-packages (from darts) (0.13.5)\n",
      "Collecting prophet>=1.1.1\n",
      "  Using cached prophet-1.1.1-cp39-cp39-win_amd64.whl (12.1 MB)\n",
      "Collecting shap>=0.40.0\n",
      "  Using cached shap-0.41.0-cp39-cp39-win_amd64.whl (435 kB)\n",
      "Collecting lightgbm>=2.2.3\n",
      "  Using cached lightgbm-3.3.3-py3-none-win_amd64.whl (1.0 MB)\n",
      "Requirement already satisfied: matplotlib>=3.3.0 in c:\\users\\pc\\anaconda3\\lib\\site-packages (from darts) (3.6.2)\n",
      "Requirement already satisfied: torch>=1.8.0 in c:\\users\\pc\\anaconda3\\lib\\site-packages (from darts) (1.13.0)\n",
      "Collecting holidays>=0.11.1\n",
      "  Using cached holidays-0.17.2-py3-none-any.whl (187 kB)\n",
      "Requirement already satisfied: xarray>=0.17.0 in c:\\users\\pc\\anaconda3\\lib\\site-packages (from darts) (2022.11.0)\n",
      "Requirement already satisfied: pandas>=1.0.5 in c:\\users\\pc\\anaconda3\\lib\\site-packages (from darts) (1.5.2)\n",
      "Requirement already satisfied: pmdarima>=1.8.0 in c:\\users\\pc\\anaconda3\\lib\\site-packages (from darts) (2.0.1)\n",
      "Requirement already satisfied: scipy>=1.3.2 in c:\\users\\pc\\anaconda3\\lib\\site-packages (from darts) (1.9.3)\n",
      "Collecting catboost>=1.0.6\n",
      "  Using cached catboost-1.1.1-cp39-none-win_amd64.whl (74.0 MB)\n",
      "Requirement already satisfied: joblib>=0.16.0 in c:\\users\\pc\\anaconda3\\lib\\site-packages (from darts) (1.1.0)\n",
      "Collecting nfoursid>=1.0.0\n",
      "  Using cached nfoursid-1.0.1-py3-none-any.whl (16 kB)\n",
      "Collecting statsforecast>=1.0.0\n",
      "  Using cached statsforecast-1.3.2-py3-none-any.whl (88 kB)\n",
      "Requirement already satisfied: scikit-learn>=1.0.1 in c:\\users\\pc\\anaconda3\\lib\\site-packages (from darts) (1.1.3)\n",
      "Requirement already satisfied: requests>=2.22.0 in c:\\users\\pc\\anaconda3\\lib\\site-packages (from darts) (2.26.0)\n",
      "Requirement already satisfied: ipython>=5.0.0 in c:\\users\\pc\\anaconda3\\lib\\site-packages (from darts) (8.6.0)\n",
      "Requirement already satisfied: six in c:\\users\\pc\\anaconda3\\lib\\site-packages (from catboost>=1.0.6->darts) (1.16.0)\n",
      "Requirement already satisfied: plotly in c:\\users\\pc\\anaconda3\\lib\\site-packages (from catboost>=1.0.6->darts) (5.11.0)\n",
      "Collecting graphviz\n",
      "  Using cached graphviz-0.20.1-py3-none-any.whl (47 kB)\n",
      "Collecting hijri-converter\n",
      "  Using cached hijri_converter-2.2.4-py3-none-any.whl (14 kB)\n",
      "Collecting korean-lunar-calendar\n",
      "  Using cached korean_lunar_calendar-0.3.1-py3-none-any.whl (9.0 kB)\n",
      "Collecting convertdate>=2.3.0\n",
      "  Using cached convertdate-2.4.0-py3-none-any.whl (47 kB)\n",
      "Requirement already satisfied: python-dateutil in c:\\users\\pc\\anaconda3\\lib\\site-packages (from holidays>=0.11.1->darts) (2.8.2)\n",
      "Requirement already satisfied: pymeeus<=1,>=0.3.13 in c:\\users\\pc\\anaconda3\\lib\\site-packages (from convertdate>=2.3.0->holidays>=0.11.1->darts) (0.5.11)\n",
      "Requirement already satisfied: decorator in c:\\users\\pc\\anaconda3\\lib\\site-packages (from ipython>=5.0.0->darts) (5.1.0)\n",
      "Requirement already satisfied: traitlets>=5 in c:\\users\\pc\\anaconda3\\lib\\site-packages (from ipython>=5.0.0->darts) (5.1.0)\n",
      "Requirement already satisfied: colorama in c:\\users\\pc\\anaconda3\\lib\\site-packages (from ipython>=5.0.0->darts) (0.4.4)\n",
      "Requirement already satisfied: jedi>=0.16 in c:\\users\\pc\\anaconda3\\lib\\site-packages (from ipython>=5.0.0->darts) (0.18.0)\n",
      "Requirement already satisfied: prompt-toolkit<3.1.0,>3.0.1 in c:\\users\\pc\\anaconda3\\lib\\site-packages (from ipython>=5.0.0->darts) (3.0.20)\n",
      "Requirement already satisfied: stack-data in c:\\users\\pc\\anaconda3\\lib\\site-packages (from ipython>=5.0.0->darts) (0.6.2)\n",
      "Requirement already satisfied: backcall in c:\\users\\pc\\anaconda3\\lib\\site-packages (from ipython>=5.0.0->darts) (0.2.0)\n",
      "Requirement already satisfied: pickleshare in c:\\users\\pc\\anaconda3\\lib\\site-packages (from ipython>=5.0.0->darts) (0.7.5)\n",
      "Requirement already satisfied: matplotlib-inline in c:\\users\\pc\\anaconda3\\lib\\site-packages (from ipython>=5.0.0->darts) (0.1.2)\n",
      "Requirement already satisfied: pygments>=2.4.0 in c:\\users\\pc\\anaconda3\\lib\\site-packages (from ipython>=5.0.0->darts) (2.10.0)\n",
      "Requirement already satisfied: parso<0.9.0,>=0.8.0 in c:\\users\\pc\\anaconda3\\lib\\site-packages (from jedi>=0.16->ipython>=5.0.0->darts) (0.8.2)\n",
      "Requirement already satisfied: wheel in c:\\users\\pc\\anaconda3\\lib\\site-packages (from lightgbm>=2.2.3->darts) (0.37.0)\n",
      "Requirement already satisfied: fonttools>=4.22.0 in c:\\users\\pc\\anaconda3\\lib\\site-packages (from matplotlib>=3.3.0->darts) (4.25.0)\n",
      "Requirement already satisfied: packaging>=20.0 in c:\\users\\pc\\anaconda3\\lib\\site-packages (from matplotlib>=3.3.0->darts) (21.3)\n",
      "Requirement already satisfied: kiwisolver>=1.0.1 in c:\\users\\pc\\anaconda3\\lib\\site-packages (from matplotlib>=3.3.0->darts) (1.3.1)\n",
      "Requirement already satisfied: contourpy>=1.0.1 in c:\\users\\pc\\anaconda3\\lib\\site-packages (from matplotlib>=3.3.0->darts) (1.0.6)\n",
      "Requirement already satisfied: cycler>=0.10 in c:\\users\\pc\\anaconda3\\lib\\site-packages (from matplotlib>=3.3.0->darts) (0.10.0)\n",
      "Requirement already satisfied: pyparsing>=2.2.1 in c:\\users\\pc\\anaconda3\\lib\\site-packages (from matplotlib>=3.3.0->darts) (3.0.4)\n",
      "Requirement already satisfied: pillow>=6.2.0 in c:\\users\\pc\\anaconda3\\lib\\site-packages (from matplotlib>=3.3.0->darts) (8.4.0)\n",
      "Requirement already satisfied: pytz>=2020.1 in c:\\users\\pc\\anaconda3\\lib\\site-packages (from pandas>=1.0.5->darts) (2021.3)\n",
      "Requirement already satisfied: urllib3 in c:\\users\\pc\\anaconda3\\lib\\site-packages (from pmdarima>=1.8.0->darts) (1.26.7)\n",
      "Requirement already satisfied: setuptools!=50.0.0,>=38.6.0 in c:\\users\\pc\\anaconda3\\lib\\site-packages (from pmdarima>=1.8.0->darts) (58.0.4)\n",
      "Requirement already satisfied: Cython!=0.29.18,!=0.29.31,>=0.29 in c:\\users\\pc\\anaconda3\\lib\\site-packages (from pmdarima>=1.8.0->darts) (0.29.24)\n",
      "Requirement already satisfied: wcwidth in c:\\users\\pc\\anaconda3\\lib\\site-packages (from prompt-toolkit<3.1.0,>3.0.1->ipython>=5.0.0->darts) (0.2.5)\n",
      "Collecting setuptools-git>=1.2\n",
      "  Using cached setuptools_git-1.2-py2.py3-none-any.whl (10 kB)\n",
      "Collecting LunarCalendar>=0.0.9\n",
      "  Using cached LunarCalendar-0.0.9-py2.py3-none-any.whl (18 kB)\n",
      "Collecting cmdstanpy>=1.0.4\n",
      "  Using cached cmdstanpy-1.0.8-py3-none-any.whl (81 kB)\n",
      "Collecting ephem>=3.7.5.3\n",
      "  Using cached ephem-4.1.3-cp39-cp39-win_amd64.whl (1.4 MB)\n",
      "Requirement already satisfied: typing-extensions>=4.0.0 in c:\\users\\pc\\anaconda3\\lib\\site-packages (from pytorch-lightning>=1.5.0->darts) (4.4.0)\n",
      "Requirement already satisfied: fsspec[http]>2021.06.0 in c:\\users\\pc\\anaconda3\\lib\\site-packages (from pytorch-lightning>=1.5.0->darts) (2021.10.1)\n",
      "Collecting lightning-utilities==0.3.*\n",
      "  Using cached lightning_utilities-0.3.0-py3-none-any.whl (15 kB)\n",
      "Requirement already satisfied: PyYAML>=5.4 in c:\\users\\pc\\anaconda3\\lib\\site-packages (from pytorch-lightning>=1.5.0->darts) (6.0)\n",
      "Collecting tensorboardX>=2.2\n",
      "  Using cached tensorboardX-2.5.1-py2.py3-none-any.whl (125 kB)\n",
      "Collecting torchmetrics>=0.7.0\n",
      "  Using cached torchmetrics-0.10.3-py3-none-any.whl (529 kB)\n",
      "Collecting fire\n",
      "  Using cached fire-0.4.0-py2.py3-none-any.whl\n",
      "Collecting aiohttp\n",
      "  Using cached aiohttp-3.8.3-cp39-cp39-win_amd64.whl (323 kB)\n",
      "Requirement already satisfied: certifi>=2017.4.17 in c:\\users\\pc\\anaconda3\\lib\\site-packages (from requests>=2.22.0->darts) (2021.10.8)\n",
      "Requirement already satisfied: charset-normalizer~=2.0.0 in c:\\users\\pc\\anaconda3\\lib\\site-packages (from requests>=2.22.0->darts) (2.0.4)\n",
      "Requirement already satisfied: idna<4,>=2.5 in c:\\users\\pc\\anaconda3\\lib\\site-packages (from requests>=2.22.0->darts) (3.2)\n",
      "Requirement already satisfied: threadpoolctl>=2.0.0 in c:\\users\\pc\\anaconda3\\lib\\site-packages (from scikit-learn>=1.0.1->darts) (2.2.0)\n",
      "Requirement already satisfied: numba in c:\\users\\pc\\anaconda3\\lib\\site-packages (from shap>=0.40.0->darts) (0.54.1)\n",
      "Requirement already satisfied: cloudpickle in c:\\users\\pc\\anaconda3\\lib\\site-packages (from shap>=0.40.0->darts) (2.0.0)\n",
      "Collecting slicer==0.0.7\n",
      "  Using cached slicer-0.0.7-py3-none-any.whl (14 kB)\n",
      "Collecting numba\n",
      "  Using cached numba-0.56.4-cp39-cp39-win_amd64.whl (2.5 MB)\n",
      "Collecting llvmlite<0.40,>=0.39.0dev0\n",
      "  Using cached llvmlite-0.39.1-cp39-cp39-win_amd64.whl (23.2 MB)\n",
      "Requirement already satisfied: patsy>=0.5.2 in c:\\users\\pc\\anaconda3\\lib\\site-packages (from statsmodels>=0.13.0->darts) (0.5.2)\n",
      "Collecting protobuf<=3.20.1,>=3.8.0\n",
      "  Using cached protobuf-3.20.1-cp39-cp39-win_amd64.whl (904 kB)\n",
      "Requirement already satisfied: attrs>=17.3.0 in c:\\users\\pc\\anaconda3\\lib\\site-packages (from aiohttp->fsspec[http]>2021.06.0->pytorch-lightning>=1.5.0->darts) (21.2.0)\n",
      "Requirement already satisfied: frozenlist>=1.1.1 in c:\\users\\pc\\anaconda3\\lib\\site-packages (from aiohttp->fsspec[http]>2021.06.0->pytorch-lightning>=1.5.0->darts) (1.3.3)\n",
      "Requirement already satisfied: yarl<2.0,>=1.0 in c:\\users\\pc\\anaconda3\\lib\\site-packages (from aiohttp->fsspec[http]>2021.06.0->pytorch-lightning>=1.5.0->darts) (1.8.1)\n",
      "Requirement already satisfied: async-timeout<5.0,>=4.0.0a3 in c:\\users\\pc\\anaconda3\\lib\\site-packages (from aiohttp->fsspec[http]>2021.06.0->pytorch-lightning>=1.5.0->darts) (4.0.2)\n",
      "Requirement already satisfied: multidict<7.0,>=4.5 in c:\\users\\pc\\anaconda3\\lib\\site-packages (from aiohttp->fsspec[http]>2021.06.0->pytorch-lightning>=1.5.0->darts) (6.0.2)\n",
      "Requirement already satisfied: aiosignal>=1.1.2 in c:\\users\\pc\\anaconda3\\lib\\site-packages (from aiohttp->fsspec[http]>2021.06.0->pytorch-lightning>=1.5.0->darts) (1.3.1)\n",
      "Requirement already satisfied: termcolor in c:\\users\\pc\\anaconda3\\lib\\site-packages (from fire->lightning-utilities==0.3.*->pytorch-lightning>=1.5.0->darts) (2.1.1)\n",
      "Requirement already satisfied: tenacity>=6.2.0 in c:\\users\\pc\\anaconda3\\lib\\site-packages (from plotly->catboost>=1.0.6->darts) (8.1.0)\n",
      "Requirement already satisfied: executing>=1.2.0 in c:\\users\\pc\\anaconda3\\lib\\site-packages (from stack-data->ipython>=5.0.0->darts) (1.2.0)\n",
      "Requirement already satisfied: pure-eval in c:\\users\\pc\\anaconda3\\lib\\site-packages (from stack-data->ipython>=5.0.0->darts) (0.2.2)\n",
      "Requirement already satisfied: asttokens>=2.1.0 in c:\\users\\pc\\anaconda3\\lib\\site-packages (from stack-data->ipython>=5.0.0->darts) (2.1.0)\n",
      "Installing collected packages: protobuf, llvmlite, korean-lunar-calendar, hijri-converter, fire, ephem, convertdate, aiohttp, torchmetrics, tensorboardX, slicer, setuptools-git, numba, LunarCalendar, lightning-utilities, holidays, graphviz, cmdstanpy, tbats, statsforecast, shap, pytorch-lightning, prophet, nfoursid, lightgbm, catboost, darts\n",
      "  Attempting uninstall: llvmlite\n",
      "    Found existing installation: llvmlite 0.37.0\n",
      "Note: you may need to restart the kernel to use updated packages.\n"
     ]
    },
    {
     "name": "stderr",
     "output_type": "stream",
     "text": [
      "WARNING: Ignoring invalid distribution -tatsmodels (c:\\users\\pc\\anaconda3\\lib\\site-packages)\n",
      "WARNING: Ignoring invalid distribution -tatsmodels (c:\\users\\pc\\anaconda3\\lib\\site-packages)\n",
      "WARNING: Ignoring invalid distribution -tatsmodels (c:\\users\\pc\\anaconda3\\lib\\site-packages)\n",
      "    WARNING: Ignoring invalid distribution -tatsmodels (c:\\users\\pc\\anaconda3\\lib\\site-packages)\n",
      "ERROR: Cannot uninstall 'llvmlite'. It is a distutils installed project and thus we cannot accurately determine which files belong to it which would lead to only a partial uninstall.\n",
      "WARNING: Ignoring invalid distribution -tatsmodels (c:\\users\\pc\\anaconda3\\lib\\site-packages)\n",
      "WARNING: Ignoring invalid distribution -tatsmodels (c:\\users\\pc\\anaconda3\\lib\\site-packages)\n",
      "WARNING: Ignoring invalid distribution -tatsmodels (c:\\users\\pc\\anaconda3\\lib\\site-packages)\n"
     ]
    }
   ],
   "source": [
    "pip install darts\n"
   ]
  },
  {
   "cell_type": "code",
   "execution_count": 39,
   "metadata": {},
   "outputs": [
    {
     "name": "stdout",
     "output_type": "stream",
     "text": [
      "^C\n",
      "\n",
      "Note: you may need to restart the kernel to use updated packages.\n"
     ]
    }
   ],
   "source": [
    "#conda install -c conda-forge -c pytorch u8darts-all\n"
   ]
  },
  {
   "cell_type": "code",
   "execution_count": 38,
   "metadata": {},
   "outputs": [
    {
     "ename": "ModuleNotFoundError",
     "evalue": "No module named 'darts'",
     "output_type": "error",
     "traceback": [
      "\u001b[1;31m---------------------------------------------------------------------------\u001b[0m",
      "\u001b[1;31mModuleNotFoundError\u001b[0m                       Traceback (most recent call last)",
      "Cell \u001b[1;32mIn [38], line 1\u001b[0m\n\u001b[1;32m----> 1\u001b[0m \u001b[39mfrom\u001b[39;00m \u001b[39mdarts\u001b[39;00m\u001b[39m.\u001b[39;00m\u001b[39mmodels\u001b[39;00m \u001b[39mimport\u001b[39;00m ExponentialSmoothing\n\u001b[0;32m      2\u001b[0m \u001b[39mfrom\u001b[39;00m \u001b[39mdarts\u001b[39;00m \u001b[39mimport\u001b[39;00m TimeSeries\n\u001b[0;32m      4\u001b[0m \u001b[39m# darts espera que os dados sejam uma instância da classe TimeSeries, então você precisa converter seu DataFrame pandas antes de usá-lo \u001b[39;00m\n\u001b[0;32m      5\u001b[0m \u001b[39m# para treinar o modelo. A classe TimeSeries fornece o método from_dataframe, que você usará:\u001b[39;00m\n",
      "\u001b[1;31mModuleNotFoundError\u001b[0m: No module named 'darts'"
     ]
    }
   ],
   "source": [
    "from darts.models import ExponentialSmoothing\n",
    "from darts import TimeSeries\n",
    "\n",
    "# darts espera que os dados sejam uma instância da classe TimeSeries, então você precisa converter seu DataFrame pandas antes de usá-lo \n",
    "# para treinar o modelo. A classe TimeSeries fornece o método from_dataframe, que você usará:"
   ]
  },
  {
   "cell_type": "code",
   "execution_count": null,
   "metadata": {},
   "outputs": [],
   "source": [
    "model = ExponentialSmoothing(seasonal_periods=12)\n",
    "ts = TimeSeries.from_dataframe(milk.reset_index(),time_col='month', value_cols='production', freq='MS')"
   ]
  },
  {
   "cell_type": "code",
   "execution_count": null,
   "metadata": {},
   "outputs": [],
   "source": [
    "train, test = split_data(ts, 0.15)\n",
    "\n",
    "model.fit(train)\n",
    "\n",
    "forecast = model.predict(len(test), num_samples=100)\n",
    "\n",
    "train.plot()\n",
    "forecast.plot(label='forecast', low_quantile=0.05, high_quantile=0.95)"
   ]
  },
  {
   "cell_type": "code",
   "execution_count": null,
   "metadata": {},
   "outputs": [],
   "source": [
    "model.model.summary() #pag382/357\n"
   ]
  }
 ],
 "metadata": {
  "kernelspec": {
   "display_name": "Python 3.9.7 ('base')",
   "language": "python",
   "name": "python3"
  },
  "language_info": {
   "codemirror_mode": {
    "name": "ipython",
    "version": 3
   },
   "file_extension": ".py",
   "mimetype": "text/x-python",
   "name": "python",
   "nbconvert_exporter": "python",
   "pygments_lexer": "ipython3",
   "version": "3.9.7"
  },
  "orig_nbformat": 4,
  "vscode": {
   "interpreter": {
    "hash": "2e33924f5cad5d014716ef47a4956958652f2e3e756f7b26cc7db08a809e4a3f"
   }
  }
 },
 "nbformat": 4,
 "nbformat_minor": 2
}
