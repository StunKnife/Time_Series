{
 "cells": [
  {
   "cell_type": "code",
   "execution_count": 78,
   "metadata": {},
   "outputs": [],
   "source": [
    "import pandas as pd\n",
    "from pathlib import Path\n",
    "import matplotlib.pyplot as plt\n",
    "from statsmodels.datasets import co2, get_rdataset\n",
    "\n",
    "from plotnine import *\n",
    "\n",
    "from statsmodels.tsa.seasonal import seasonal_decompose, STL\n",
    "\n",
    "from statsmodels.tsa.filters.hp_filter import hpfilter\n",
    "\n",
    "from statsmodels.tsa.stattools import adfuller, kpss\n",
    "\n",
    "import numpy as np\n",
    "from statsmodels.graphics.tsaplots import plot_acf, plot_pacf\n",
    "import statsmodels.api as sm\n",
    "\n",
    "from scipy.stats import shapiro, kstest, normaltest\n",
    "from statsmodels.stats.diagnostic import kstest_normal, normal_ad\n",
    "\n",
    "from statsmodels.tsa.api import AutoReg\n",
    "\n",
    "from statsmodels.stats.api import (het_breuschpagan, het_goldfeldquandt, het_white)\n",
    "\n",
    "from scipy.stats import boxcox\n",
    "\n",
    "from statsmodels.stats.diagnostic import acorr_ljungbox\n",
    "\n"
   ]
  },
  {
   "cell_type": "code",
   "execution_count": 62,
   "metadata": {},
   "outputs": [],
   "source": [
    "# Dataset: AirPassengers\n",
    "air_passengers = get_rdataset(\"AirPassengers\")\n",
    "airp_df = air_passengers.data\n",
    "airp_df.index = pd.date_range('1949', '1961', freq='M')\n",
    "airp_df.drop(columns=['time'], inplace=True)"
   ]
  },
  {
   "cell_type": "code",
   "execution_count": 63,
   "metadata": {},
   "outputs": [],
   "source": [
    "# Dataset: co2\n",
    "co2_df = co2.load_pandas().data\n",
    "co2_df = co2_df.ffill()"
   ]
  },
  {
   "cell_type": "markdown",
   "metadata": {},
   "source": [
    "# Aplicando power transformations\n",
    "-   Dependendo do modelo e da análise que você está buscando, pode ser necessário testar suposições adicionais em relação ao conjunto de dados observado ou aos resíduos do modelo.\n",
    "    - Mais especificamente, é a variância dos resíduos. Quando a variância não é constante, mudando ao longo do tempo, chamamos de heteroscedasticidade\n",
    "    - Outra suposição que você precisará testar é a normalidade; a observação específica vem de um distribuição normal? \n",
    "    - As vezes, você também pode querer verificar a normalidade dos resíduos, o que pode fazer parte do estágio de diagnóstico do modelo.\n",
    "\n",
    "OBS: Se você não fizer isso (checar), poderá acabar com um modelo falho ou um resultado excessivamente otimista ou excessivamente pessimista. \n",
    "    - A transformação ''''Box-Cox'''': pode ser usada para transformar os dados e satisfazer a normalidade e a homoscedasticidade"
   ]
  },
  {
   "cell_type": "markdown",
   "metadata": {},
   "source": [
    "# Transformação boxcox\n",
    "    - A transformação Box-Cox depende de apenas um parâmetro, lambda ( λ)\n",
    "        - Se o parâmetro lmbda estiver definido como None, a função encontrará o valor lambda (λ) ideal para você."
   ]
  },
  {
   "cell_type": "markdown",
   "metadata": {},
   "source": [
    "# Testing normality\n",
    "    - Convenientemente, os testes a seguir têm a mesma hipótese nula. \n",
    "        - A hipótese nula afirma que os dados são normalmente distribuídos"
   ]
  },
  {
   "cell_type": "code",
   "execution_count": 64,
   "metadata": {},
   "outputs": [],
   "source": [
    "# Função que retorna se é ou não normal\n",
    "def is_normal(test, p_level=0.05):\n",
    "    stat, pval = test\n",
    "    \n",
    "    return 'Normal' if pval > 0.05 else 'Not Normal'"
   ]
  },
  {
   "cell_type": "code",
   "execution_count": 65,
   "metadata": {},
   "outputs": [
    {
     "name": "stdout",
     "output_type": "stream",
     "text": [
      "Not Normal\n",
      "Not Normal\n",
      "Not Normal\n",
      "Not Normal\n",
      "Not Normal\n"
     ]
    },
    {
     "name": "stderr",
     "output_type": "stream",
     "text": [
      "c:\\Users\\Pc\\anaconda3\\lib\\site-packages\\numpy\\core\\fromnumeric.py:3472: FutureWarning: In a future version, DataFrame.mean(axis=None) will return a scalar mean over the entire DataFrame. To retain the old behavior, use 'frame.mean(axis=0)' or just 'frame.mean()'\n"
     ]
    }
   ],
   "source": [
    "# Testes simutâneos\n",
    "normal_args = (np.mean(co2_df),np.std(co2_df))\n",
    "print(is_normal(shapiro(co2_df)))\n",
    "print(is_normal(normaltest(co2_df)))\n",
    "print(is_normal(normal_ad(co2_df)))\n",
    "print(is_normal(kstest_normal(co2_df)))\n",
    "print(is_normal(kstest(co2_df, cdf='norm', args=(np.mean(co2_df), np.std(co2_df)))))\n"
   ]
  },
  {
   "cell_type": "code",
   "execution_count": 66,
   "metadata": {},
   "outputs": [
    {
     "name": "stdout",
     "output_type": "stream",
     "text": [
      "Not Normal\n"
     ]
    }
   ],
   "source": [
    "# Testando normalidade dos resíduos\n",
    "model = AutoReg(co2_df.dropna(), lags=1).fit()\n",
    "\n",
    "print(is_normal(shapiro(model.resid)))"
   ]
  },
  {
   "cell_type": "markdown",
   "metadata": {},
   "source": [
    "# TESTEANDO HOMOCEDASTICIDADE DO RESÍDUOS\n",
    "    - Você testará a estabilidade da variância em relação aos resíduos do modelo. Este será o mesmo modelo AR(1) usado no teste de normalidade anterior:\n",
    "        - H0: A hipótese nula afirma que os dados são homocedásticos"
   ]
  },
  {
   "cell_type": "code",
   "execution_count": 67,
   "metadata": {},
   "outputs": [],
   "source": [
    "def het_test(model, test=het_breuschpagan):\n",
    "    lm, lm_pvalue, fvalue, f_pvalue = (\n",
    "        het_breuschpagan(model.resid, \n",
    "                         sm.add_constant(\n",
    "                             model.fittedvalues)\n",
    "                        ))\n",
    "    \n",
    "    return \"Heteroskedastic\" if f_pvalue < 0.05 else \"Homoskedastic\""
   ]
  },
  {
   "cell_type": "code",
   "execution_count": 68,
   "metadata": {},
   "outputs": [
    {
     "data": {
      "text/plain": [
       "'Homoskedastic'"
      ]
     },
     "execution_count": 68,
     "metadata": {},
     "output_type": "execute_result"
    }
   ],
   "source": [
    "# Breusch-Pagan Lagrange multiplier test\n",
    "het_test(model, test=het_breuschpagan)"
   ]
  },
  {
   "cell_type": "code",
   "execution_count": 69,
   "metadata": {},
   "outputs": [
    {
     "data": {
      "text/plain": [
       "'Homoskedastic'"
      ]
     },
     "execution_count": 69,
     "metadata": {},
     "output_type": "execute_result"
    }
   ],
   "source": [
    "# White's Lagrange multiplier test\n",
    "het_test(model, test=het_white)\n",
    "\n",
    "# Ambos os testes indicam que os resíduos do modelo autorregressivo possuem variância constante (homoscedástico). Ambos os testes estimam a regressão auxiliar contra os resíduos quadrados e todas as variáveis explicativas"
   ]
  },
  {
   "cell_type": "markdown",
   "metadata": {},
   "source": [
    "# TRANSFORMAÇÃO BOX-COX: existe um parâmetro lambda usado para determinar qual transformação aplicar (logarithm or power transform)\n",
    "    - transforma um conjunto de dados não normalmente distribuído em um normalmente distribuído.\n",
    "    - Ao mesmo tempo, estabiliza a variância, tornando os dados homocedásticos.\n",
    "    - Uma coisa a apontar é que a função boxcox requer que os dados sejam positivos."
   ]
  },
  {
   "cell_type": "code",
   "execution_count": 70,
   "metadata": {},
   "outputs": [
    {
     "data": {
      "text/html": [
       "<div>\n",
       "<style scoped>\n",
       "    .dataframe tbody tr th:only-of-type {\n",
       "        vertical-align: middle;\n",
       "    }\n",
       "\n",
       "    .dataframe tbody tr th {\n",
       "        vertical-align: top;\n",
       "    }\n",
       "\n",
       "    .dataframe thead th {\n",
       "        text-align: right;\n",
       "    }\n",
       "</style>\n",
       "<table border=\"1\" class=\"dataframe\">\n",
       "  <thead>\n",
       "    <tr style=\"text-align: right;\">\n",
       "      <th></th>\n",
       "      <th>value</th>\n",
       "    </tr>\n",
       "  </thead>\n",
       "  <tbody>\n",
       "    <tr>\n",
       "      <th>1949-01-31</th>\n",
       "      <td>112</td>\n",
       "    </tr>\n",
       "    <tr>\n",
       "      <th>1949-02-28</th>\n",
       "      <td>118</td>\n",
       "    </tr>\n",
       "    <tr>\n",
       "      <th>1949-03-31</th>\n",
       "      <td>132</td>\n",
       "    </tr>\n",
       "    <tr>\n",
       "      <th>1949-04-30</th>\n",
       "      <td>129</td>\n",
       "    </tr>\n",
       "    <tr>\n",
       "      <th>1949-05-31</th>\n",
       "      <td>121</td>\n",
       "    </tr>\n",
       "  </tbody>\n",
       "</table>\n",
       "</div>"
      ],
      "text/plain": [
       "            value\n",
       "1949-01-31    112\n",
       "1949-02-28    118\n",
       "1949-03-31    132\n",
       "1949-04-30    129\n",
       "1949-05-31    121"
      ]
     },
     "execution_count": 70,
     "metadata": {},
     "output_type": "execute_result"
    }
   ],
   "source": [
    "airp_df.head(5)"
   ]
  },
  {
   "cell_type": "code",
   "execution_count": 71,
   "metadata": {},
   "outputs": [
    {
     "name": "stdout",
     "output_type": "stream",
     "text": [
      "0.14802265137037945\n"
     ]
    },
    {
     "data": {
      "text/plain": [
       "1949-01-31    6.827490\n",
       "1949-02-28    6.932822\n",
       "1949-03-31    7.161892\n",
       "1949-04-30    7.114611\n",
       "1949-05-31    6.983787\n",
       "Freq: M, Name: value, dtype: float64"
      ]
     },
     "execution_count": 71,
     "metadata": {},
     "output_type": "execute_result"
    }
   ],
   "source": [
    "# DEFAULT: LAMBDA: NONE - a função encontra um valor de lambda ideal\n",
    "xt, lmbda = boxcox(airp_df['value']) \n",
    "xts = pd.Series(xt, index=airp_df.index, name='value')\n",
    "\n",
    "print(lmbda)\n",
    "xts.head(5)"
   ]
  },
  {
   "cell_type": "code",
   "execution_count": 72,
   "metadata": {},
   "outputs": [
    {
     "data": {
      "image/png": "[encoded data removed]",
      "text/plain": [
       "<Figure size 432x288 with 2 Axes>"
      ]
     },
     "metadata": {
      "needs_background": "light"
     },
     "output_type": "display_data"
    }
   ],
   "source": [
    "# Um histograma pode mostrar visualmente o impacto da transformação:\n",
    "fig, ax = plt.subplots(1, 2)\n",
    "airp_df.hist(ax=ax[0])\n",
    "xts.hist(ax=ax[1])\n",
    "plt.show()"
   ]
  },
  {
   "cell_type": "code",
   "execution_count": 73,
   "metadata": {},
   "outputs": [
    {
     "name": "stderr",
     "output_type": "stream",
     "text": [
      "c:\\Users\\Pc\\anaconda3\\lib\\site-packages\\plotnine\\stats\\stat_bin.py:95: PlotnineWarning: 'stat_bin()' using 'bins = 8'. Pick better value with 'binwidth'.\n"
     ]
    },
    {
     "data": {
      "image/png": "[encoded data removed]",
      "text/plain": [
       "<Figure size 640x480 with 1 Axes>"
      ]
     },
     "metadata": {},
     "output_type": "display_data"
    },
    {
     "data": {
      "text/plain": [
       "<ggplot: (158125646674)>"
      ]
     },
     "execution_count": 73,
     "metadata": {},
     "output_type": "execute_result"
    }
   ],
   "source": [
    "ggplot(airp_df, aes(x='value',y='..density..'))+geom_histogram(fill='lightblue',colour='black')+geom_density(fill='blue', alpha=0.2)"
   ]
  },
  {
   "cell_type": "code",
   "execution_count": 74,
   "metadata": {},
   "outputs": [
    {
     "data": {
      "image/png": "[encoded data removed]",
      "text/plain": [
       "<Figure size 432x288 with 2 Axes>"
      ]
     },
     "metadata": {
      "needs_background": "light"
     },
     "output_type": "display_data"
    }
   ],
   "source": [
    "fig, ax = plt.subplots(1, 2)\n",
    "airp_df.plot(ax=ax[0])\n",
    "xts.plot(ax=ax[1])\n",
    "plt.show() \n",
    "\n",
    "# Observe como o efeito sazonal no conjunto de dados transformado parece mais estável do que antes"
   ]
  },
  {
   "cell_type": "code",
   "execution_count": 75,
   "metadata": {},
   "outputs": [
    {
     "data": {
      "text/plain": [
       "<AxesSubplot: >"
      ]
     },
     "execution_count": 75,
     "metadata": {},
     "output_type": "execute_result"
    },
    {
     "data": {
      "image/png": "[encoded data removed]",
      "text/plain": [
       "<Figure size 432x288 with 2 Axes>"
      ]
     },
     "metadata": {
      "needs_background": "light"
     },
     "output_type": "display_data"
    }
   ],
   "source": [
    "# Ajustando modelo para comparar os resíduos\n",
    "model_airp = AutoReg(airp_df, lags=1, trend='n').fit()\n",
    "\n",
    "model_bx = AutoReg(xts, lags=1, trend='n').fit()\n",
    "\n",
    "fig, ax = plt.subplots(1, 2)\n",
    "model_airp.resid.plot(ax=ax[0])\n",
    "model_bx.resid.plot(ax=ax[1])\n",
    "\n",
    "# Box-Cox nos permite tornar os dados normais e homoscedásticos e faz parte de uma família de transformações de potência que inclui transformação de log e \n",
    "# transformação de raiz quadrada."
   ]
  },
  {
   "cell_type": "code",
   "execution_count": 76,
   "metadata": {},
   "outputs": [
    {
     "name": "stdout",
     "output_type": "stream",
     "text": [
      "       Test of No Serial Correlation       \n",
      "===========================================\n",
      "       Lag  Ljung-Box LB P-value         DF\n",
      "-------------------------------------------\n",
      "         1      8.800      0.003          1\n",
      "         2     12.729      0.002          2\n",
      "         3     28.040      0.000          3\n",
      "         4     29.202      0.000          4\n",
      "         5     29.205      0.000          5\n",
      "         6     31.021      0.000          6\n",
      "         7     47.992      0.000          7\n",
      "         8     50.468      0.000          8\n",
      "         9     52.247      0.000          9\n",
      "\n",
      "\n",
      "             Test of Normality              \n",
      "============================================\n",
      "Jarque-Bera    P-value   Skewness   Kurtosis\n",
      "--------------------------------------------\n",
      "      5.987      0.050     -0.128      2.031\n",
      "\n",
      "\n",
      "    Test of Conditional Homoskedasticity   \n",
      "===========================================\n",
      "       Lag    ARCH-LM    P-value         DF\n",
      "-------------------------------------------\n",
      "         1      0.116      0.733          1\n",
      "         2      1.243      0.537          2\n",
      "         3      4.112      0.250          3\n",
      "         4      4.058      0.398          4\n",
      "         5      6.836      0.233          5\n",
      "         6      7.203      0.302          6\n",
      "         7     14.755      0.039          7\n",
      "         8     15.157      0.056          8\n",
      "         9     15.993      0.067          9\n",
      "        10     17.963      0.056         10\n",
      "-------------------------------------------\n"
     ]
    }
   ],
   "source": [
    "# Resumo dos modelos\n",
    "print(model_bx.diagnostic_summary())"
   ]
  },
  {
   "cell_type": "code",
   "execution_count": 79,
   "metadata": {},
   "outputs": [
    {
     "data": {
      "image/png": "[encoded data removed]",
      "text/plain": [
       "<Figure size 432x288 with 4 Axes>"
      ]
     },
     "metadata": {
      "needs_background": "light"
     },
     "output_type": "display_data"
    }
   ],
   "source": [
    "# EXIMANDO OS RESÍDUOS DO MODELO\n",
    "model_bx.plot_diagnostics(); plt.show()\n",
    "\n",
    "# Gráfico Q-Q e do histograma: VERIFICAR NORMALIDADE\n",
    "# Gráfico de ACF: permitirá examinar a autocorrelação"
   ]
  },
  {
   "cell_type": "markdown",
   "metadata": {},
   "source": [
    "# TESTE DE AUTOCORRELAÇÃO: medimos a relação linear entre os valores da série temporal separados por um atraso (lag). Em outras palavras, estamos comparando uma variável com sua versão defasada de si mesma.\n",
    "    - teste Ljung-Box: A hipótese nula para o teste Ljung-Box afirma que os lags anteriores não estão correlacionados com o período atual. Ou seja,\n",
    "    H0: ausência de autocorrelação\n",
    "    \n",
    "    - Ao testar a autocorrelação nos resíduos, a expectativa é que não haja autocorrelação entre os resíduos. Isso garante que o modelo capturou todas as informações necessárias.\n",
    "\n",
    "OBS: A presença de autocorrelação nos resíduos pode indicar que o modelo perdeu uma oportunidade de capturar informações críticas e precisará ser avaliado"
   ]
  },
  {
   "cell_type": "code",
   "execution_count": 81,
   "metadata": {},
   "outputs": [
    {
     "data": {
      "text/html": [
       "<div>\n",
       "<style scoped>\n",
       "    .dataframe tbody tr th:only-of-type {\n",
       "        vertical-align: middle;\n",
       "    }\n",
       "\n",
       "    .dataframe tbody tr th {\n",
       "        vertical-align: top;\n",
       "    }\n",
       "\n",
       "    .dataframe thead th {\n",
       "        text-align: right;\n",
       "    }\n",
       "</style>\n",
       "<table border=\"1\" class=\"dataframe\">\n",
       "  <thead>\n",
       "    <tr style=\"text-align: right;\">\n",
       "      <th></th>\n",
       "      <th>co2</th>\n",
       "    </tr>\n",
       "  </thead>\n",
       "  <tbody>\n",
       "    <tr>\n",
       "      <th>1958-04-05</th>\n",
       "      <td>0.003789</td>\n",
       "    </tr>\n",
       "    <tr>\n",
       "      <th>1958-04-12</th>\n",
       "      <td>0.000945</td>\n",
       "    </tr>\n",
       "    <tr>\n",
       "      <th>1958-04-19</th>\n",
       "      <td>-0.000315</td>\n",
       "    </tr>\n",
       "    <tr>\n",
       "      <th>1958-04-26</th>\n",
       "      <td>-0.003471</td>\n",
       "    </tr>\n",
       "    <tr>\n",
       "      <th>1958-05-03</th>\n",
       "      <td>0.001579</td>\n",
       "    </tr>\n",
       "    <tr>\n",
       "      <th>...</th>\n",
       "      <td>...</td>\n",
       "    </tr>\n",
       "    <tr>\n",
       "      <th>2001-12-01</th>\n",
       "      <td>0.000000</td>\n",
       "    </tr>\n",
       "    <tr>\n",
       "      <th>2001-12-08</th>\n",
       "      <td>0.001349</td>\n",
       "    </tr>\n",
       "    <tr>\n",
       "      <th>2001-12-15</th>\n",
       "      <td>0.001078</td>\n",
       "    </tr>\n",
       "    <tr>\n",
       "      <th>2001-12-22</th>\n",
       "      <td>0.000269</td>\n",
       "    </tr>\n",
       "    <tr>\n",
       "      <th>2001-12-29</th>\n",
       "      <td>0.000539</td>\n",
       "    </tr>\n",
       "  </tbody>\n",
       "</table>\n",
       "<p>2283 rows × 1 columns</p>\n",
       "</div>"
      ],
      "text/plain": [
       "                 co2\n",
       "1958-04-05  0.003789\n",
       "1958-04-12  0.000945\n",
       "1958-04-19 -0.000315\n",
       "1958-04-26 -0.003471\n",
       "1958-05-03  0.001579\n",
       "...              ...\n",
       "2001-12-01  0.000000\n",
       "2001-12-08  0.001349\n",
       "2001-12-15  0.001078\n",
       "2001-12-22  0.000269\n",
       "2001-12-29  0.000539\n",
       "\n",
       "[2283 rows x 1 columns]"
      ]
     },
     "execution_count": 81,
     "metadata": {},
     "output_type": "execute_result"
    }
   ],
   "source": [
    "# Os dados de CO2 são não estacionários:: então iremos aplicar uma transformação nos dados\n",
    "co2_diff= np.log(co2_df).diff().dropna()\n",
    "co2_diff"
   ]
  },
  {
   "cell_type": "code",
   "execution_count": 82,
   "metadata": {},
   "outputs": [
    {
     "data": {
      "text/html": [
       "<div>\n",
       "<style scoped>\n",
       "    .dataframe tbody tr th:only-of-type {\n",
       "        vertical-align: middle;\n",
       "    }\n",
       "\n",
       "    .dataframe tbody tr th {\n",
       "        vertical-align: top;\n",
       "    }\n",
       "\n",
       "    .dataframe thead th {\n",
       "        text-align: right;\n",
       "    }\n",
       "</style>\n",
       "<table border=\"1\" class=\"dataframe\">\n",
       "  <thead>\n",
       "    <tr style=\"text-align: right;\">\n",
       "      <th></th>\n",
       "      <th>lb_stat</th>\n",
       "      <th>lb_pvalue</th>\n",
       "    </tr>\n",
       "  </thead>\n",
       "  <tbody>\n",
       "    <tr>\n",
       "      <th>1</th>\n",
       "      <td>16.193898</td>\n",
       "      <td>5.717801e-05</td>\n",
       "    </tr>\n",
       "    <tr>\n",
       "      <th>2</th>\n",
       "      <td>78.485798</td>\n",
       "      <td>9.057856e-18</td>\n",
       "    </tr>\n",
       "    <tr>\n",
       "      <th>3</th>\n",
       "      <td>287.050787</td>\n",
       "      <td>6.311581e-62</td>\n",
       "    </tr>\n",
       "    <tr>\n",
       "      <th>4</th>\n",
       "      <td>383.291716</td>\n",
       "      <td>1.132455e-81</td>\n",
       "    </tr>\n",
       "    <tr>\n",
       "      <th>5</th>\n",
       "      <td>493.588582</td>\n",
       "      <td>1.932434e-104</td>\n",
       "    </tr>\n",
       "    <tr>\n",
       "      <th>6</th>\n",
       "      <td>536.683057</td>\n",
       "      <td>1.047943e-112</td>\n",
       "    </tr>\n",
       "    <tr>\n",
       "      <th>7</th>\n",
       "      <td>598.257880</td>\n",
       "      <td>5.776363e-125</td>\n",
       "    </tr>\n",
       "    <tr>\n",
       "      <th>8</th>\n",
       "      <td>620.615981</td>\n",
       "      <td>8.637442e-129</td>\n",
       "    </tr>\n",
       "    <tr>\n",
       "      <th>9</th>\n",
       "      <td>626.775866</td>\n",
       "      <td>3.739862e-129</td>\n",
       "    </tr>\n",
       "    <tr>\n",
       "      <th>10</th>\n",
       "      <td>631.630413</td>\n",
       "      <td>2.925751e-129</td>\n",
       "    </tr>\n",
       "  </tbody>\n",
       "</table>\n",
       "</div>"
      ],
      "text/plain": [
       "       lb_stat      lb_pvalue\n",
       "1    16.193898   5.717801e-05\n",
       "2    78.485798   9.057856e-18\n",
       "3   287.050787   6.311581e-62\n",
       "4   383.291716   1.132455e-81\n",
       "5   493.588582  1.932434e-104\n",
       "6   536.683057  1.047943e-112\n",
       "7   598.257880  5.776363e-125\n",
       "8   620.615981  8.637442e-129\n",
       "9   626.775866  3.739862e-129\n",
       "10  631.630413  2.925751e-129"
      ]
     },
     "execution_count": 82,
     "metadata": {},
     "output_type": "execute_result"
    }
   ],
   "source": [
    "# lags = 10 é o lag máximo testado::: ele varia ate 10\n",
    "acorr_ljungbox(co2_diff, lags=10, return_df=True)\n",
    "\n",
    "# Isso mostra que a estatística de teste para todos os atrasos até o atraso 10 é significativa (p-valor < 0,05), \n",
    "# portanto, você pode rejeitar a hipótese nula. Rejeitar a hipótese nula significa rejeitar a alegação de que não há autocorrelação."
   ]
  },
  {
   "cell_type": "code",
   "execution_count": 83,
   "metadata": {},
   "outputs": [
    {
     "data": {
      "text/html": [
       "<div>\n",
       "<style scoped>\n",
       "    .dataframe tbody tr th:only-of-type {\n",
       "        vertical-align: middle;\n",
       "    }\n",
       "\n",
       "    .dataframe tbody tr th {\n",
       "        vertical-align: top;\n",
       "    }\n",
       "\n",
       "    .dataframe thead th {\n",
       "        text-align: right;\n",
       "    }\n",
       "</style>\n",
       "<table border=\"1\" class=\"dataframe\">\n",
       "  <thead>\n",
       "    <tr style=\"text-align: right;\">\n",
       "      <th></th>\n",
       "      <th>lb_stat</th>\n",
       "      <th>lb_pvalue</th>\n",
       "    </tr>\n",
       "  </thead>\n",
       "  <tbody>\n",
       "    <tr>\n",
       "      <th>1</th>\n",
       "      <td>6.891379</td>\n",
       "      <td>8.661245e-03</td>\n",
       "    </tr>\n",
       "    <tr>\n",
       "      <th>2</th>\n",
       "      <td>8.799865</td>\n",
       "      <td>1.227817e-02</td>\n",
       "    </tr>\n",
       "    <tr>\n",
       "      <th>3</th>\n",
       "      <td>12.728606</td>\n",
       "      <td>5.261829e-03</td>\n",
       "    </tr>\n",
       "    <tr>\n",
       "      <th>4</th>\n",
       "      <td>28.039695</td>\n",
       "      <td>1.224399e-05</td>\n",
       "    </tr>\n",
       "    <tr>\n",
       "      <th>5</th>\n",
       "      <td>29.201881</td>\n",
       "      <td>2.116595e-05</td>\n",
       "    </tr>\n",
       "    <tr>\n",
       "      <th>6</th>\n",
       "      <td>29.204901</td>\n",
       "      <td>5.563811e-05</td>\n",
       "    </tr>\n",
       "    <tr>\n",
       "      <th>7</th>\n",
       "      <td>31.021143</td>\n",
       "      <td>6.161812e-05</td>\n",
       "    </tr>\n",
       "    <tr>\n",
       "      <th>8</th>\n",
       "      <td>47.991784</td>\n",
       "      <td>9.915323e-08</td>\n",
       "    </tr>\n",
       "    <tr>\n",
       "      <th>9</th>\n",
       "      <td>50.468158</td>\n",
       "      <td>8.794752e-08</td>\n",
       "    </tr>\n",
       "    <tr>\n",
       "      <th>10</th>\n",
       "      <td>52.247452</td>\n",
       "      <td>1.026842e-07</td>\n",
       "    </tr>\n",
       "  </tbody>\n",
       "</table>\n",
       "</div>"
      ],
      "text/plain": [
       "      lb_stat     lb_pvalue\n",
       "1    6.891379  8.661245e-03\n",
       "2    8.799865  1.227817e-02\n",
       "3   12.728606  5.261829e-03\n",
       "4   28.039695  1.224399e-05\n",
       "5   29.201881  2.116595e-05\n",
       "6   29.204901  5.563811e-05\n",
       "7   31.021143  6.161812e-05\n",
       "8   47.991784  9.915323e-08\n",
       "9   50.468158  8.794752e-08\n",
       "10  52.247452  1.026842e-07"
      ]
     },
     "execution_count": 83,
     "metadata": {},
     "output_type": "execute_result"
    }
   ],
   "source": [
    "acorr_ljungbox(model_bx.resid, return_df=True, lags=10)"
   ]
  },
  {
   "cell_type": "code",
   "execution_count": null,
   "metadata": {},
   "outputs": [],
   "source": []
  }
 ],
 "metadata": {
  "kernelspec": {
   "display_name": "Python 3.9.7 ('base')",
   "language": "python",
   "name": "python3"
  },
  "language_info": {
   "codemirror_mode": {
    "name": "ipython",
    "version": 3
   },
   "file_extension": ".py",
   "mimetype": "text/x-python",
   "name": "python",
   "nbconvert_exporter": "python",
   "pygments_lexer": "ipython3",
   "version": "3.9.7"
  },
  "orig_nbformat": 4,
  "vscode": {
   "interpreter": {
    "hash": "2e33924f5cad5d014716ef47a4956958652f2e3e756f7b26cc7db08a809e4a3f"
   }
  }
 },
 "nbformat": 4,
 "nbformat_minor": 2
}
